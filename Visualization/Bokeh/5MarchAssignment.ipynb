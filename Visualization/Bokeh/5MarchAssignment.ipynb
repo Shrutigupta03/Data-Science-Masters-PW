{
 "cells": [
  {
   "cell_type": "markdown",
   "id": "f26074f2-1b1a-45b5-adcf-fe51f08da139",
   "metadata": {},
   "source": [
    "**Q1.** How can you create a Bokeh plot using Python code?\n",
    "\n",
    "**Answer:**\n",
    "\n",
    "To create a Bokeh plot using Python code, you can follow these steps:\n",
    "\n",
    "1. Install the Bokeh library: Start by installing the Bokeh library if you haven't already. You can use pip, the Python package manager, to install it by running the following command:"
   ]
  },
  {
   "cell_type": "code",
   "execution_count": 1,
   "id": "5e036d7a-b948-49ba-b1f7-ad6684c14aa2",
   "metadata": {
    "scrolled": true,
    "tags": []
   },
   "outputs": [
    {
     "name": "stdout",
     "output_type": "stream",
     "text": [
      "Requirement already satisfied: bokeh in /opt/conda/lib/python3.10/site-packages (3.0.3)\n",
      "Requirement already satisfied: Jinja2>=2.9 in /opt/conda/lib/python3.10/site-packages (from bokeh) (3.1.2)\n",
      "Requirement already satisfied: packaging>=16.8 in /opt/conda/lib/python3.10/site-packages (from bokeh) (22.0)\n",
      "Requirement already satisfied: contourpy>=1 in /opt/conda/lib/python3.10/site-packages (from bokeh) (1.0.6)\n",
      "Requirement already satisfied: PyYAML>=3.10 in /opt/conda/lib/python3.10/site-packages (from bokeh) (6.0)\n",
      "Requirement already satisfied: xyzservices>=2021.09.1 in /opt/conda/lib/python3.10/site-packages (from bokeh) (2022.9.0)\n",
      "Requirement already satisfied: numpy>=1.11.3 in /opt/conda/lib/python3.10/site-packages (from bokeh) (1.23.5)\n",
      "Requirement already satisfied: pandas>=1.2 in /opt/conda/lib/python3.10/site-packages (from bokeh) (1.5.2)\n",
      "Requirement already satisfied: pillow>=7.1.0 in /opt/conda/lib/python3.10/site-packages (from bokeh) (9.2.0)\n",
      "Requirement already satisfied: tornado>=5.1 in /opt/conda/lib/python3.10/site-packages (from bokeh) (6.1)\n",
      "Requirement already satisfied: MarkupSafe>=2.0 in /opt/conda/lib/python3.10/site-packages (from Jinja2>=2.9->bokeh) (2.1.1)\n",
      "Requirement already satisfied: python-dateutil>=2.8.1 in /opt/conda/lib/python3.10/site-packages (from pandas>=1.2->bokeh) (2.8.2)\n",
      "Requirement already satisfied: pytz>=2020.1 in /opt/conda/lib/python3.10/site-packages (from pandas>=1.2->bokeh) (2022.6)\n",
      "Requirement already satisfied: six>=1.5 in /opt/conda/lib/python3.10/site-packages (from python-dateutil>=2.8.1->pandas>=1.2->bokeh) (1.16.0)\n",
      "Note: you may need to restart the kernel to use updated packages.\n"
     ]
    }
   ],
   "source": [
    "pip install bokeh"
   ]
  },
  {
   "cell_type": "markdown",
   "id": "1369f208-cb0b-4b57-9742-b07b3ccbdfd4",
   "metadata": {},
   "source": [
    "2. Import the necessary modules: In your Python script or notebook, import the required modules from the Bokeh library. Typically, you would need to import `bokeh.plotting` or `bokeh.models` to create different types of plots.\n",
    "\n",
    "3. Create a figure object: Use the `figure()` function to create a Figure object, which represents the canvas or plotting area. You can specify various properties of the plot, such as the plot size, title, axes labels, and more.\n",
    "\n",
    "4. Add glyphs to the figure: A Bokeh plot is made up of different glyphs, such as circles, lines, bars, or patches, that represent the data points. Use the glyph functions (e.g., `circle()`, `line()`, `rect()`, etc.) to add the desired glyphs to the figure. You can pass in the data and other properties (e.g., color, size, etc.) to customize the appearance of the glyphs.\n",
    "\n",
    "5. Add additional elements and styling: You can add other plot elements like annotations, legends, or hover tooltips using additional functions provided by the Bokeh library. You can also customize the plot's appearance by modifying attributes of the Figure object, such as axis properties, grid lines, or background color.\n",
    "\n",
    "6. Show or save the plot: Finally, you can use the `show()` function to display the plot in a browser or save it to a file using the `save()` function. Bokeh plots can be rendered as interactive HTML files, standalone web applications, or embedded within Jupyter notebooks.\n",
    "\n",
    "Here's an example code snippet that demonstrates creating a simple scatter plot using Bokeh:"
   ]
  },
  {
   "cell_type": "code",
   "execution_count": 7,
   "id": "4e595460-0ec1-4895-839e-6be83db9329e",
   "metadata": {},
   "outputs": [],
   "source": [
    "from bokeh.plotting import figure, show\n",
    "\n",
    "# Sample data\n",
    "x = [1, 2, 3, 4, 5]\n",
    "y = [6, 7, 2, 4, 5]\n",
    "\n",
    "# Create a figure object\n",
    "p = figure(title=\"Scatter Plot\", x_axis_label='X', y_axis_label='Y')\n",
    "\n",
    "# Add glyphs to the figure\n",
    "p.circle(x, y, size=10, color='blue')\n",
    "\n",
    "# Show the plot\n",
    "show(p)"
   ]
  },
  {
   "cell_type": "markdown",
   "id": "64e95acd-f3a2-474a-98bb-9a3ed9fb68d1",
   "metadata": {},
   "source": [
    "**Q2.** What are glyphs in Bokeh, and how can you add them to a Bokeh plot? Explain with an example.\n",
    "\n",
    "**Answer:**\n",
    "\n",
    "In Bokeh, glyphs are visual markers or shapes that represent data points on a plot. They can be used to display various types of data, such as circles, squares, lines, bars, or patches. Glyphs are added to a Bokeh plot using glyph functions provided by the Bokeh library.\n",
    "\n",
    "To add glyphs to a Bokeh plot, you typically follow these steps:\n",
    "\n",
    "1. Create a figure object: Start by creating a Figure object using the `figure()` function. This represents the canvas or plotting area where the glyphs will be displayed. You can specify various properties of the plot, such as the plot size, title, axes labels, and more.\n",
    "\n",
    "2. Call the glyph function: Use the appropriate glyph function (e.g., `circle()`, `square()`, `line()`, `rect()`, etc.) to add the desired glyphs to the figure. These functions take in the data and other properties to customize the appearance of the glyphs.\n",
    "\n",
    "3. Customize glyph properties: You can further customize the appearance of the glyphs by modifying the attributes of the glyph object returned by the glyph function. For example, you can set properties like size, color, transparency, line width, or fill color.\n",
    "\n",
    "Here's an example that demonstrates adding circle glyphs to a Bokeh scatter plot:"
   ]
  },
  {
   "cell_type": "code",
   "execution_count": 2,
   "id": "394cc1d6-e258-45a8-baaf-2daefc1c1a91",
   "metadata": {},
   "outputs": [],
   "source": [
    "from bokeh.plotting import figure, show\n",
    "\n",
    "# Sample data\n",
    "x = [1, 2, 3, 4, 5]\n",
    "y = [6, 7, 2, 4, 5]\n",
    "\n",
    "# Create a figure object\n",
    "p = figure(title=\"Scatter Plot\", x_axis_label='X', y_axis_label='Y')\n",
    "\n",
    "# Add circle glyphs to the figure\n",
    "p.circle(x, y, size=10, color='blue')\n",
    "\n",
    "# Show the plot\n",
    "show(p)"
   ]
  },
  {
   "cell_type": "markdown",
   "id": "52ef9d59-a2e4-42a7-a226-45f769cef625",
   "metadata": {},
   "source": [
    "**Q3.** How can you customize the appearance of a Bokeh plot, including the axes, title, and legend?\n",
    "\n",
    "**Answer:**\n",
    "\n",
    "In Bokeh, you can customize the appearance of a plot by modifying various attributes and properties of the Figure object. Here are some common ways to customize the appearance of a Bokeh plot, including the axes, title, and legend:\n",
    "\n",
    "1. Plot Title:\n",
    "   - Set the title of the plot using the `title` attribute of the Figure object. For example: `p.title.text = \"My Plot Title\"`\n",
    "   - Customize the title font, size, and color using the `title` attribute, such as `p.title.text_font_size = \"16pt\"`\n",
    "\n",
    "2. Axes Labels:\n",
    "   - Specify the labels for the x-axis and y-axis using the `x_axis_label` and `y_axis_label` attributes of the Figure object, respectively. For example: `p.xaxis.axis_label = \"X-axis Label\"`\n",
    "   - Customize the axis label font, size, and color using the `axis_label` attribute, such as `p.xaxis.axis_label_text_font_size = \"12pt\"`\n",
    "\n",
    "3. Axis Ticks and Tick Labels:\n",
    "   - Control the appearance of axis ticks and tick labels using attributes like `xaxis.ticker`, `yaxis.ticker`, `xaxis.major_label_text_font_size`, and `yaxis.major_label_text_color`. For example, `p.xaxis.major_label_text_font_size = \"10pt\"` or `p.yaxis.ticker.num_minor_ticks = 5`\n",
    "\n",
    "4. Legend:\n",
    "   - Add a legend to the plot using the `legend` attribute of the Figure object. You can set its location (`p.legend.location`), orientation (`p.legend.orientation`), and customize other properties like font size and color.\n",
    "   - Assign names to the plotted glyphs using the `legend_label` argument when adding the glyphs. For example, `p.circle(x, y, legend_label=\"Data Points\")`.\n",
    "   - Enable or disable the legend using the `p.legend.visible` attribute.\n",
    "\n",
    "5. Plot Background and Grid Lines:\n",
    "   - Customize the background color of the plot using the `p.background_fill_color` attribute.\n",
    "   - Control the visibility and appearance of grid lines using attributes like `xgrid.grid_line_color`, `xgrid.grid_line_alpha`, `ygrid.grid_line_dash`, etc.\n",
    "\n",
    "These are just a few examples of how you can customize the appearance of a Bokeh plot. Bokeh provides a wide range of customization options, including control over color palettes, line styles, hover tooltips, plot sizing, and more. You can refer to the Bokeh documentation for a comprehensive list of available customization options and attributes."
   ]
  },
  {
   "cell_type": "markdown",
   "id": "04fd97e0-2232-4ceb-87b1-0f79b68f9006",
   "metadata": {},
   "source": [
    "**Q4.** What is a Bokeh server, and how can you use it to create interactive plots that can be updated in real time?\n",
    "\n",
    "**Answer:**\n",
    "\n",
    "A Bokeh server is a Python process that allows you to create and serve interactive plots and applications that can be updated in real time. It enables the creation of dynamic and interactive visualizations that respond to user input or changing data. With the Bokeh server, you can build web-based applications with rich and interactive plots that can be accessed and viewed by users in their web browsers.\n",
    "\n",
    "To use the Bokeh server and create interactive plots that can be updated in real time, you typically follow these steps:\n",
    "\n",
    "1. Create a Python script: Write a Python script that defines the interactive plot or application using Bokeh's plotting functions and models. This script will include the necessary code to create the initial plot and define the interactive behavior.\n",
    "\n",
    "2. Launch the Bokeh server: Start the Bokeh server by running the Python script from the command line or an integrated development environment (IDE). This will start the Bokeh server process and host the plot or application locally.\n",
    "\n",
    "3. Define the update behavior: In the script, you can define functions or callbacks that handle user input or update the plot based on changing data. These functions will be called whenever the plot needs to be updated in response to user actions or external data changes.\n",
    "\n",
    "4. Run the server and view the plot: Open a web browser and navigate to the URL provided by the Bokeh server. This URL will display the interactive plot or application hosted by the Bokeh server. Users can interact with the plot, and it can be updated in real time based on the defined behavior.\n",
    "\n",
    "5. Update the plot dynamically: As users interact with the plot, such as selecting data points, adjusting sliders, or entering values, the defined update functions or callbacks will be triggered. These functions can update the plot's data, appearance, or layout dynamically, providing a responsive and interactive user experience.\n",
    "\n",
    "The Bokeh server enables the creation of complex interactive applications that go beyond static plots. It supports a wide range of interactivity options, including linked plots, streaming data, widgets, and real-time updates. With the Bokeh server, you can create data-driven dashboards, live data streaming applications, and other interactive visualizations that can be shared and accessed by users."
   ]
  },
  {
   "cell_type": "markdown",
   "id": "01a92049-2fce-46f3-ba12-8853a486a0a9",
   "metadata": {},
   "source": [
    "**Q5.** How can you embed a Bokeh plot into a web page or dashboard using Flask or Django?\n",
    "\n",
    "**Answer:**\n",
    "\n",
    "To embed a Bokeh plot into a web page or dashboard using Flask or Django, you can follow these general steps:\n",
    "\n",
    "1. Install the necessary packages: Make sure you have Flask or Django installed in your Python environment. You will also need the Bokeh library.\n",
    "\n",
    "2. Create a Flask or Django application: Set up a Flask or Django application by creating the necessary project and application files. Refer to the respective frameworks' documentation for detailed instructions on how to set up a new project.\n",
    "\n",
    "3. Define a route or view function: In your Flask or Django application, define a route or view function that will handle the request for the web page or dashboard where the Bokeh plot will be embedded.\n",
    "\n",
    "4. Generate the Bokeh plot: Inside the route or view function, generate the Bokeh plot using Bokeh's plotting functions and models. Set up the desired interactivity, data sources, and appearance for the plot.\n",
    "\n",
    "5. Convert the Bokeh plot to HTML: Use Bokeh's `components` function to generate the HTML code for the Bokeh plot. This function returns the necessary HTML `<script>` and `<div>` tags that will render the plot.\n",
    "\n",
    "6. Pass the HTML code to the template: In Flask, render a template and pass the generated HTML code for the Bokeh plot to the template context. In Django, you can use the template engine to render the HTML code within a template.\n",
    "\n",
    "7. Create the web page or dashboard template: Create an HTML template for the web page or dashboard where the Bokeh plot will be embedded. Use the template language provided by Flask or Django to insert the Bokeh plot's HTML code into the appropriate location within the template.\n",
    "\n",
    "8. Render the web page or dashboard: In Flask, return the rendered template from the route function, and Flask will send it as the response to the client. In Django, return an `HttpResponse` object that contains the rendered template.\n",
    "\n",
    "9. Start the server and view the web page or dashboard: Start the Flask or Django development server and navigate to the specified URL in your web browser. The Bokeh plot will be embedded within the web page or dashboard, and you can interact with it as desired.\n",
    "\n",
    "These steps provide a general overview of embedding a Bokeh plot into a web page or dashboard using Flask or Django. The specific implementation may vary depending on your Flask or Django project structure and requirements. Refer to the documentation of Flask, Django, and Bokeh for more detailed instructions and examples."
   ]
  }
 ],
 "metadata": {
  "kernelspec": {
   "display_name": "Python 3 (ipykernel)",
   "language": "python",
   "name": "python3"
  },
  "language_info": {
   "codemirror_mode": {
    "name": "ipython",
    "version": 3
   },
   "file_extension": ".py",
   "mimetype": "text/x-python",
   "name": "python",
   "nbconvert_exporter": "python",
   "pygments_lexer": "ipython3",
   "version": "3.10.8"
  }
 },
 "nbformat": 4,
 "nbformat_minor": 5
}
