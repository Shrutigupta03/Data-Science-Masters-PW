{
 "cells": [
  {
   "cell_type": "markdown",
   "id": "d1619131-ad85-443a-be0f-1c8fb80b805b",
   "metadata": {},
   "source": [
    "**Consider the below code to answer further questions:**\n",
    "\n",
    "```python\n",
    "import numpy as np\n",
    "list_ = [ '1', '2', '3', '4', '5' ]\n",
    "array_list = np.array(object = list_)\n",
    "```"
   ]
  },
  {
   "cell_type": "markdown",
   "id": "c1d94c86-35b0-41ea-ab40-445797a04b21",
   "metadata": {},
   "source": [
    "**Q1.** Is there any difference in the data type of variables list_ and array_list? If there is then write a code to print the data types of both the variables.\n",
    "\n",
    "**Answer:**\n",
    "\n",
    "Yes, there is a difference in the data type of the `list_` variable and the `array_list` variable. \n",
    "\n",
    "The `list_` variable is a Python list, which can hold elements of different data types. In this case, it contains strings.\n",
    "\n",
    "The `array_list` variable is a NumPy array, which is a homogeneous data structure that can only hold elements of a single data type. In this case, it contains strings as well, but they will be stored as NumPy string data type.\n",
    "\n",
    "To print the data types of both variables, you can use the `type()` function in Python:\n",
    "\n",
    "```python\n",
    "import numpy as np\n",
    "\n",
    "list_ = ['1', '2', '3', '4', '5']\n",
    "array_list = np.array(list_)\n",
    "\n",
    "print(\"Data type of list_:\", type(list_))\n",
    "print(\"Data type of array_list:\", type(array_list))\n",
    "```\n",
    "\n",
    "When you run this code, it will output:\n",
    "\n",
    "```\n",
    "Data type of list_: <class 'list'>\n",
    "Data type of array_list: <class 'numpy.ndarray'>\n",
    "```\n",
    "\n",
    "This confirms that `list_` is of type `list` and `array_list` is of type `numpy.ndarray`."
   ]
  },
  {
   "cell_type": "markdown",
   "id": "00b5806b-ccb2-41df-88e4-68816268bf25",
   "metadata": {},
   "source": [
    "**Q2.** Write a code to print the data type of each and every element of both the variables list_ and array_list.\n",
    "\n",
    "**Answer:**\n"
   ]
  },
  {
   "cell_type": "code",
   "execution_count": 1,
   "id": "75e25a02-1c63-4e69-973e-726f8f71ed0e",
   "metadata": {},
   "outputs": [
    {
     "name": "stdout",
     "output_type": "stream",
     "text": [
      "Data types of elements in list_:\n",
      "<class 'str'>\n",
      "<class 'str'>\n",
      "<class 'str'>\n",
      "<class 'str'>\n",
      "<class 'str'>\n",
      "\n",
      "Data types of elements in array_list:\n",
      "<class 'numpy.str_'>\n",
      "<class 'numpy.str_'>\n",
      "<class 'numpy.str_'>\n",
      "<class 'numpy.str_'>\n",
      "<class 'numpy.str_'>\n"
     ]
    }
   ],
   "source": [
    "import numpy as np\n",
    "\n",
    "list_ = ['1', '2', '3', '4', '5']\n",
    "array_list = np.array(list_)\n",
    "\n",
    "# Print data types of elements in list_\n",
    "print(\"Data types of elements in list_:\")\n",
    "for element in list_:\n",
    "    print(type(element))\n",
    "\n",
    "# Print data types of elements in array_list\n",
    "print(\"\\nData types of elements in array_list:\")\n",
    "for element in array_list:\n",
    "    print(type(element))\n"
   ]
  },
  {
   "cell_type": "markdown",
   "id": "c5f91769-b4c0-4084-b0d4-24507398ed58",
   "metadata": {},
   "source": [
    "**Q3.** Considering the following changes in the variable, array_list:\n",
    "```python\n",
    "array_list = np.array(object = list_, dtype = int)\n",
    "```\n",
    "Will there be any difference in the data type of the elements present in both the variables, list_ and\n",
    "arra_list? If so then print the data types of each and every element present in both the variables, list_\n",
    "and arra_list.\n",
    "\n",
    "**Answer:**\n",
    "\n",
    "Yes, there will be a difference in the data type of the elements present in `list_` and `array_list` after the change.\n",
    "\n",
    "When creating `array_list` with the modified code `np.array(object = list_, dtype = int)`, the `dtype` parameter is set to `int`. This means that the elements in `array_list` will be converted to `integers`."
   ]
  },
  {
   "cell_type": "code",
   "execution_count": 3,
   "id": "36ac0464-7cc0-4350-a148-d88e9a937702",
   "metadata": {},
   "outputs": [
    {
     "name": "stdout",
     "output_type": "stream",
     "text": [
      "Data types of elements in list_:\n",
      "<class 'str'>\n",
      "<class 'str'>\n",
      "<class 'str'>\n",
      "<class 'str'>\n",
      "<class 'str'>\n",
      "\n",
      "Data types of elements in array_list:\n",
      "<class 'numpy.int64'>\n",
      "<class 'numpy.int64'>\n",
      "<class 'numpy.int64'>\n",
      "<class 'numpy.int64'>\n",
      "<class 'numpy.int64'>\n"
     ]
    }
   ],
   "source": [
    "import numpy as np\n",
    "\n",
    "list_ = ['1', '2', '3', '4', '5']\n",
    "array_list = np.array(object=list_, dtype=int)\n",
    "\n",
    "# Print data types of elements in list_\n",
    "print(\"Data types of elements in list_:\")\n",
    "for element in list_:\n",
    "    print(type(element))\n",
    "\n",
    "# Print data types of elements in array_list\n",
    "print(\"\\nData types of elements in array_list:\")\n",
    "for element in array_list:\n",
    "    print(type(element))\n"
   ]
  },
  {
   "cell_type": "markdown",
   "id": "a2a3de45-8f5f-4b3b-b647-be4a26c8b2e2",
   "metadata": {},
   "source": [
    "**Consider the below code to answer further questions:**\n",
    "```python\n",
    "import numpy as np\n",
    "num_list = [ [ 1 , 2 , 3 ] , [ 4 , 5 , 6 ] ]\n",
    "num_array = np.array(object = num_list)\n",
    "```"
   ]
  },
  {
   "cell_type": "markdown",
   "id": "95e83c87-baa8-4157-b62e-55a9e641bf0e",
   "metadata": {},
   "source": [
    "**Q4.** Write a code to find the following characteristics of variable, num_array:\n",
    "\n",
    "(i)\t shape\n",
    "\n",
    "(ii) size\n",
    "\n",
    "**Answer:**\n"
   ]
  },
  {
   "cell_type": "code",
   "execution_count": 9,
   "id": "39732718-3a5d-46cd-8042-8103decb66a4",
   "metadata": {},
   "outputs": [
    {
     "name": "stdout",
     "output_type": "stream",
     "text": [
      "Shape of num_array:  (2, 3)\n",
      "Size of num_array:  6\n"
     ]
    }
   ],
   "source": [
    "import numpy as np\n",
    "\n",
    "num_list = [ [ 1 , 2 , 3 ] , [ 4 , 5 , 6 ] ]\n",
    "num_array = np.array(object = num_list)\n",
    "\n",
    "print(\"Shape of num_array: \", num_array.shape)\n",
    "print(\"Size of num_array: \", num_array.size)"
   ]
  },
  {
   "cell_type": "markdown",
   "id": "ae49fe1e-6835-42a4-9536-d3fbbd5d7150",
   "metadata": {},
   "source": [
    "**Q5.** Write a code to create numpy array of 3*3 matrix containing zeros only, using a numpy array\n",
    "creation function.\n",
    "\n",
    "**Answer:**\n"
   ]
  },
  {
   "cell_type": "code",
   "execution_count": 11,
   "id": "8a5a8a6d-e25a-4e67-8bcb-69b63a50a3ba",
   "metadata": {},
   "outputs": [
    {
     "name": "stdout",
     "output_type": "stream",
     "text": [
      "[[0. 0. 0.]\n",
      " [0. 0. 0.]\n",
      " [0. 0. 0.]]\n"
     ]
    }
   ],
   "source": [
    "import numpy as np\n",
    "\n",
    "mat = np.zeros((3, 3))\n",
    "\n",
    "print(mat)"
   ]
  },
  {
   "cell_type": "markdown",
   "id": "a7fac457-bed4-4417-bec4-d686faef606d",
   "metadata": {},
   "source": [
    "**Q6.** Create an identity matrix of shape (5,5) using numpy functions?\n",
    "\n",
    "**Answer:**\n"
   ]
  },
  {
   "cell_type": "code",
   "execution_count": 14,
   "id": "ecb08d1b-8074-4bdd-a30e-1db5017f8c47",
   "metadata": {},
   "outputs": [
    {
     "name": "stdout",
     "output_type": "stream",
     "text": [
      "[[1. 0. 0. 0. 0.]\n",
      " [0. 1. 0. 0. 0.]\n",
      " [0. 0. 1. 0. 0.]\n",
      " [0. 0. 0. 1. 0.]\n",
      " [0. 0. 0. 0. 1.]]\n"
     ]
    }
   ],
   "source": [
    "import numpy as np\n",
    "\n",
    "identity_mat = np.eye((5))\n",
    "\n",
    "print(identity_mat)"
   ]
  }
 ],
 "metadata": {
  "kernelspec": {
   "display_name": "Python 3 (ipykernel)",
   "language": "python",
   "name": "python3"
  },
  "language_info": {
   "codemirror_mode": {
    "name": "ipython",
    "version": 3
   },
   "file_extension": ".py",
   "mimetype": "text/x-python",
   "name": "python",
   "nbconvert_exporter": "python",
   "pygments_lexer": "ipython3",
   "version": "3.10.8"
  }
 },
 "nbformat": 4,
 "nbformat_minor": 5
}
