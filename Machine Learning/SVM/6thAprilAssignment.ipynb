{
 "cells": [
  {
   "cell_type": "markdown",
   "id": "a9073946-117b-4fa0-b887-d71ff453bb07",
   "metadata": {},
   "source": [
    "**Q1.** What is the mathematical formula for a linear SVM?\n",
    "\n",
    "**Answer:**\n",
    "\n",
    "A linear Support Vector Machine (SVM) is a type of SVM used for binary classification tasks, where the decision boundary is a hyperplane that separates the two classes. The mathematical formula for a linear SVM can be represented as follows:\n",
    "\n",
    "Given a training dataset with $(n$) samples and $(m$) features:\n",
    "$[ D = \\{(x_1, y_1), (x_2, y_2),\\ldots, (x_n, y_n)\\} $]\n",
    "\n",
    "where $(x_i$) is the feature vector of the $(i$)-th sample, and $(y_i$) is its corresponding class label, with \\(y_i \\in \\{-1, 1\\}\\) (commonly, $(y_i = -1$) for one class and $(y_i = 1$) for the other).\n",
    "\n",
    "The goal of the linear SVM is to find a hyperplane represented by the equation:\n",
    "$[ w^T \\cdot x + b = 0 $]\n",
    "where $(w$) is the weight vector (perpendicular to the hyperplane) and $(b$) is the bias term (controls the offset from the origin).\n",
    "\n",
    "The decision function of the linear SVM is given by:\n",
    "$[ f(x) = \\text{sign}(w^T \\cdot x + b) $]\n",
    "where $(\\text{sign}(\\cdot)$) returns the sign of the argument (i.e., $(+1$) or $(-1$)).\n",
    "\n",
    "The linear SVM aims to find the optimal $(w$) and $(b$) by maximizing the margin between the two classes, subject to the constraint that all data points are correctly classified:\n",
    "$[ y_i \\cdot (w^T \\cdot x_i + b) \\geq 1 \\quad \\text{for all } i $]\n",
    "\n",
    "Additionally, the SVM formulation includes the concept of regularization to handle cases where the data might not be perfectly separable. The most common formulation uses the hinge loss, which penalizes misclassifications:\n",
    "$ \\min_{w, b} \\frac{1}{2} ||w||^2 + C \\sum_{i=1}^n  \\max(0, 1 - y_i \\cdot (w^T \\cdot x_i + b)) $\n",
    "where \\(C\\) is the regularization parameter, which controls the trade-off between maximizing the margin and minimizing the classification error. A smaller $(C$) encourages a larger margin but may allow more misclassifications, while a larger $(C$) results in a smaller margin but fewer misclassifications.\n",
    "\n",
    "The optimization problem involves finding the optimal $(w$) and $(b$) that minimize the above objective function. Various optimization techniques, such as quadratic programming or gradient descent, can be used to find the optimal solution."
   ]
  },
  {
   "cell_type": "markdown",
   "id": "095fae1b-45fe-438e-8d3a-53bc6ceb7bec",
   "metadata": {},
   "source": [
    "**Q2.** What is the objective function of a linear SVM?\n",
    "\n",
    "**Answer:**\n",
    "\n",
    "The objective function of a linear Support Vector Machine (SVM) is a combination of two terms: the margin maximization term and the regularization term. The goal of the SVM is to find the optimal hyperplane that separates the data points of two classes while maximizing the margin between them. Additionally, the regularization term is introduced to handle cases where the data might not be perfectly separable.\n",
    "\n",
    "Given a training dataset with \\(n\\) samples and \\(m\\) features:\n",
    "$[ D = \\{(x_1, y_1), (x_2, y_2), \\ldots, (x_n, y_n)\\} $]\n",
    "where $(x_i$) is the feature vector of the \\(i\\)-th sample, and $(y_i$) is its corresponding class label, with $(y_i \\in \\{-1, 1\\}$) (commonly, $(y_i = -1$) for one class and $(y_i = 1$) for the other).\n",
    "\n",
    "The objective function of a linear SVM is formulated as follows:\n",
    "\n",
    "$[ \\min_{w, b} \\frac{1}{2} ||w||^2 + C \\sum_{i=1}^n \\max(0, 1 - y_i \\cdot (w^T \\cdot x_i + b)) $]\n",
    "\n",
    "where:\n",
    "\n",
    "- \\(w\\) is the weight vector (perpendicular to the hyperplane).\n",
    "- \\(b\\) is the bias term (controls the offset from the origin).\n",
    "- \\(C\\) is the regularization parameter, which controls the trade-off between maximizing the margin and minimizing the classification error.\n",
    "- $(||w||^2$) is the squared L2 norm of the weight vector, representing the margin.\n",
    "- The term $(\\max(0, 1 - y_i \\cdot (w^T \\cdot x_i + b))$) is the hinge loss, which penalizes misclassifications. It is equal to zero when the sample $(x_i$) is correctly classified (i.e., $(y_i \\cdot (w^T \\cdot x_i + b) \\geq 1$)), and it increases linearly with the margin violation when $(y_i \\cdot (w^T \\cdot x_i + b) < 1$).\n",
    "\n",
    "The objective function aims to find the optimal $w$ and $b$ that minimize the squared L2 norm of the weight vector (maximizing the margin) while penalizing misclassifications. The regularization parameter $C$ controls the balance between these two objectives. A smaller $C$ encourages a larger margin but may allow more misclassifications, while a larger $C$ results in a smaller margin but fewer misclassifications."
   ]
  },
  {
   "cell_type": "markdown",
   "id": "d106fc13-af4d-4384-b6e0-9f52218b5bd8",
   "metadata": {},
   "source": [
    "**Q4.** What is the role of support vectors in SVM Explain with example \n",
    "\n",
    "**Answer:**\n",
    "\n",
    "In a Support Vector Machine (SVM), support vectors play a critical role in defining the decision boundary and the margin between classes. Support vectors are the data points from the training dataset that are closest to the decision boundary (also known as the hyperplane) and have the most influence on the construction of the SVM model.\n",
    "\n",
    "To understand the role of support vectors, let's consider a simple example of a binary classification problem with two features (2D data). We have two classes: blue circles (positive class) and red squares (negative class).\n",
    "\n",
    "Example Data:\n",
    "```\n",
    "Positive Class (Blue Circles): (1, 2), (2, 3), (3, 3)\n",
    "Negative Class (Red Squares): (2, 1), (3, 2), (4, 2)\n",
    "```\n",
    "\n",
    "The goal of the SVM is to find the optimal hyperplane that separates the positive and negative classes while maximizing the margin between them. In this 2D example, the hyperplane is a straight line represented by $(w^T \\cdot x + b = 0$), where $(w$) is the weight vector and $(b$) is the bias term.\n",
    "\n",
    "Let's assume the SVM finds the following decision boundary (hyperplane):\n",
    "$[ 2x_1 - x_2 - 2 = 0 $]\n",
    "\n",
    "In this case, the SVM has found a decision boundary (a line) that separates the two classes. However, there are several possible lines that can separate the data. The SVM chooses the line that maximizes the margin between the two classes. The support vectors are the data points that lie closest to the decision boundary. In this example, the support vectors are:\n",
    "\n",
    "```\n",
    "Support Vectors: (1, 2), (2, 1), (3, 2)\n",
    "```\n",
    "\n",
    "These points lie on or very close to the decision boundary, and they are crucial for defining the margin and constructing the SVM model.\n",
    "\n",
    "The margin is the distance between the support vectors of the two classes. It is defined by the lines parallel to the decision boundary and passing through the support vectors of each class. The optimal margin is the one that maximizes the separation between the classes. The SVM aims to find the decision boundary that maximizes this margin.\n",
    "\n",
    "By using the kernel trick, SVMs can implicitly map the data into a higher-dimensional space, making it possible to find nonlinear decision boundaries that separate the classes effectively. In higher dimensions, the decision boundary may take the form of planes, curved surfaces, or even more complex structures.\n",
    "\n",
    "In summary, support vectors are the critical data points that determine the location of the decision boundary and the margin in an SVM. They are responsible for defining the separation between the classes and, ultimately, the classification performance of the SVM model."
   ]
  },
  {
   "cell_type": "markdown",
   "id": "74c150f2-1fdd-4106-b32e-a04337956491",
   "metadata": {},
   "source": [
    "**Q5.** Illustrate with examples and graphs of Hyperplane, Marginal plane, Soft margin and Hard margin in SVM?\n",
    "\n",
    "**Answer:**\n",
    "\n",
    "To illustrate the concepts of hyperplane, marginal plane, soft margin, and hard margin in Support Vector Machines (SVM), we will use a simple 2D dataset with two classes: blue circles (positive class) and red squares (negative class).\n",
    "\n",
    "### Example Data:\n",
    "```\n",
    "Positive Class (Blue Circles): (1, 2), (2, 3), (3, 3)\n",
    "Negative Class (Red Squares): (5, 2), (6, 3), (7, 3)\n",
    "```\n",
    "\n",
    "In the examples below, we'll visualize the data points and the decision boundaries of the SVM models with different margin types.\n",
    "\n",
    "### Hard Margin SVM:\n",
    "In a hard margin SVM, the goal is to find a hyperplane that perfectly separates the two classes, with no misclassifications.\n",
    "\n",
    "In the graph, the black line represents the hyperplane (decision boundary) that perfectly separates the two classes. In this case, there are no misclassifications, and all data points are correctly classified. The margin is the dashed line that is equidistant from the closest data points (support vectors) of each class.\n",
    "\n",
    "### Soft Margin SVM:\n",
    "In a soft margin SVM, the goal is to allow some misclassifications to achieve a more generalized decision boundary. The soft margin SVM introduces a slack variable \\( \\xi_i \\) for each data point, which allows some points to be on the wrong side of the margin or even on the wrong side of the hyperplane.\n",
    "\n",
    "Example Data:\n",
    "```\n",
    "Positive Class (Blue Circles): (1, 2), (2, 3), (3, 3)\n",
    "Negative Class (Red Squares): (4, 2), (6, 3), (7, 3)\n",
    "```\n",
    "\n",
    "In the graph, the black line represents the hyperplane (decision boundary), and the two dotted lines represent the marginal planes. Some data points are within the margin (slack variables $( \\xi_i $) greater than 0) or on the wrong side of the hyperplane, but the SVM tries to minimize the number of misclassifications and the width of the margin.\n",
    "\n",
    "### Non-Linearly Separable Data with Kernel Trick:\n",
    "In cases where the data is not linearly separable, the kernel trick can be used to transform the data into a higher-dimensional space, where it might become linearly separable.\n",
    "\n",
    "Example Data:\n",
    "```\n",
    "Positive Class (Blue Circles): (1, 2), (2, 3), (3, 3)\n",
    "Negative Class (Red Squares): (2, 1), (3, 2), (4, 2)\n",
    "```\n",
    "\n",
    "In the graph , the data points are not linearly separable in 2D. By using a radial basis function (RBF) kernel, the SVM implicitly maps the data into a higher-dimensional space where it becomes linearly separable. The black line represents the hyperplane (decision boundary) in the higher-dimensional space, which corresponds to a non-linear decision boundary in the original 2D space.\n",
    "\n",
    "The SVM with the RBF kernel can handle more complex decision boundaries and can effectively classify non-linearly separable data.\n",
    "\n",
    "In summary, SVMs are powerful tools for binary classification tasks. The hyperplane represents the decision boundary that separates the classes. The margin is the distance between the hyperplane and the closest data points (support vectors). In hard margin SVM, the goal is to find a hyperplane that perfectly separates the classes, while in soft margin SVM, some misclassifications are allowed to achieve a more generalized model. The kernel trick allows SVMs to handle non-linearly separable data by implicitly mapping it into a higher-dimensional space where it might become linearly separable."
   ]
  },
  {
   "cell_type": "markdown",
   "id": "16d0b4ae-1beb-4918-8444-a4c9348d9f67",
   "metadata": {},
   "source": [
    "**Q6.** SVM Implementation through Iris dataset.\n",
    "- Load the iris dataset from the scikit-learn library and split it into a training set and a testing set.\n",
    "- Train a linear SVM classifier on the training set and predict the labels for the testing set.\n",
    "- Compute the accuracy of the model on the testing set.\n",
    "- Plot the decision boundaries of the trained model using two of the features.\n",
    "- Try different values of the regularisation parameter C and see how it affects the performance of the model.\n",
    "\n"
   ]
  },
  {
   "cell_type": "code",
   "execution_count": 1,
   "id": "4bfe7f85-60b3-47ab-99d8-330fce1f410b",
   "metadata": {},
   "outputs": [
    {
     "name": "stdout",
     "output_type": "stream",
     "text": [
      "Requirement already satisfied: scikit-learn in /opt/conda/lib/python3.10/site-packages (1.2.0)\n",
      "Requirement already satisfied: joblib>=1.1.1 in /opt/conda/lib/python3.10/site-packages (from scikit-learn) (1.2.0)\n",
      "Requirement already satisfied: scipy>=1.3.2 in /opt/conda/lib/python3.10/site-packages (from scikit-learn) (1.9.3)\n",
      "Requirement already satisfied: threadpoolctl>=2.0.0 in /opt/conda/lib/python3.10/site-packages (from scikit-learn) (3.1.0)\n",
      "Requirement already satisfied: numpy>=1.17.3 in /opt/conda/lib/python3.10/site-packages (from scikit-learn) (1.23.5)\n",
      "Note: you may need to restart the kernel to use updated packages.\n"
     ]
    }
   ],
   "source": [
    "pip install scikit-learn"
   ]
  },
  {
   "cell_type": "code",
   "execution_count": 1,
   "id": "ccc0b4d9-d7c4-44d7-b345-e0ed5d531898",
   "metadata": {},
   "outputs": [],
   "source": [
    "import numpy as np\n",
    "import matplotlib.pyplot as plt\n",
    "from sklearn.datasets import load_iris\n",
    "from sklearn.model_selection import train_test_split\n",
    "from sklearn.svm import SVC\n",
    "from sklearn.metrics import accuracy_score"
   ]
  },
  {
   "cell_type": "code",
   "execution_count": 2,
   "id": "c1cb68fe-ba2f-425f-800f-f59846a8a5b5",
   "metadata": {},
   "outputs": [],
   "source": [
    "iris = load_iris()\n",
    "X, Y = iris.data[:, :2], iris.target"
   ]
  },
  {
   "cell_type": "code",
   "execution_count": 4,
   "id": "cc3a1c26-fdc3-4405-9f30-3a3715ace581",
   "metadata": {},
   "outputs": [],
   "source": [
    "X_train, X_test, y_train, y_test = train_test_split(X, Y, test_size=0.3, random_state=42)"
   ]
  },
  {
   "cell_type": "code",
   "execution_count": 5,
   "id": "734beec8-4862-4d18-8270-3c82b04b7abb",
   "metadata": {},
   "outputs": [
    {
     "data": {
      "text/html": [
       "<style>#sk-container-id-1 {color: black;background-color: white;}#sk-container-id-1 pre{padding: 0;}#sk-container-id-1 div.sk-toggleable {background-color: white;}#sk-container-id-1 label.sk-toggleable__label {cursor: pointer;display: block;width: 100%;margin-bottom: 0;padding: 0.3em;box-sizing: border-box;text-align: center;}#sk-container-id-1 label.sk-toggleable__label-arrow:before {content: \"▸\";float: left;margin-right: 0.25em;color: #696969;}#sk-container-id-1 label.sk-toggleable__label-arrow:hover:before {color: black;}#sk-container-id-1 div.sk-estimator:hover label.sk-toggleable__label-arrow:before {color: black;}#sk-container-id-1 div.sk-toggleable__content {max-height: 0;max-width: 0;overflow: hidden;text-align: left;background-color: #f0f8ff;}#sk-container-id-1 div.sk-toggleable__content pre {margin: 0.2em;color: black;border-radius: 0.25em;background-color: #f0f8ff;}#sk-container-id-1 input.sk-toggleable__control:checked~div.sk-toggleable__content {max-height: 200px;max-width: 100%;overflow: auto;}#sk-container-id-1 input.sk-toggleable__control:checked~label.sk-toggleable__label-arrow:before {content: \"▾\";}#sk-container-id-1 div.sk-estimator input.sk-toggleable__control:checked~label.sk-toggleable__label {background-color: #d4ebff;}#sk-container-id-1 div.sk-label input.sk-toggleable__control:checked~label.sk-toggleable__label {background-color: #d4ebff;}#sk-container-id-1 input.sk-hidden--visually {border: 0;clip: rect(1px 1px 1px 1px);clip: rect(1px, 1px, 1px, 1px);height: 1px;margin: -1px;overflow: hidden;padding: 0;position: absolute;width: 1px;}#sk-container-id-1 div.sk-estimator {font-family: monospace;background-color: #f0f8ff;border: 1px dotted black;border-radius: 0.25em;box-sizing: border-box;margin-bottom: 0.5em;}#sk-container-id-1 div.sk-estimator:hover {background-color: #d4ebff;}#sk-container-id-1 div.sk-parallel-item::after {content: \"\";width: 100%;border-bottom: 1px solid gray;flex-grow: 1;}#sk-container-id-1 div.sk-label:hover label.sk-toggleable__label {background-color: #d4ebff;}#sk-container-id-1 div.sk-serial::before {content: \"\";position: absolute;border-left: 1px solid gray;box-sizing: border-box;top: 0;bottom: 0;left: 50%;z-index: 0;}#sk-container-id-1 div.sk-serial {display: flex;flex-direction: column;align-items: center;background-color: white;padding-right: 0.2em;padding-left: 0.2em;position: relative;}#sk-container-id-1 div.sk-item {position: relative;z-index: 1;}#sk-container-id-1 div.sk-parallel {display: flex;align-items: stretch;justify-content: center;background-color: white;position: relative;}#sk-container-id-1 div.sk-item::before, #sk-container-id-1 div.sk-parallel-item::before {content: \"\";position: absolute;border-left: 1px solid gray;box-sizing: border-box;top: 0;bottom: 0;left: 50%;z-index: -1;}#sk-container-id-1 div.sk-parallel-item {display: flex;flex-direction: column;z-index: 1;position: relative;background-color: white;}#sk-container-id-1 div.sk-parallel-item:first-child::after {align-self: flex-end;width: 50%;}#sk-container-id-1 div.sk-parallel-item:last-child::after {align-self: flex-start;width: 50%;}#sk-container-id-1 div.sk-parallel-item:only-child::after {width: 0;}#sk-container-id-1 div.sk-dashed-wrapped {border: 1px dashed gray;margin: 0 0.4em 0.5em 0.4em;box-sizing: border-box;padding-bottom: 0.4em;background-color: white;}#sk-container-id-1 div.sk-label label {font-family: monospace;font-weight: bold;display: inline-block;line-height: 1.2em;}#sk-container-id-1 div.sk-label-container {text-align: center;}#sk-container-id-1 div.sk-container {/* jupyter's `normalize.less` sets `[hidden] { display: none; }` but bootstrap.min.css set `[hidden] { display: none !important; }` so we also need the `!important` here to be able to override the default hidden behavior on the sphinx rendered scikit-learn.org. See: https://github.com/scikit-learn/scikit-learn/issues/21755 */display: inline-block !important;position: relative;}#sk-container-id-1 div.sk-text-repr-fallback {display: none;}</style><div id=\"sk-container-id-1\" class=\"sk-top-container\"><div class=\"sk-text-repr-fallback\"><pre>SVC(kernel=&#x27;linear&#x27;)</pre><b>In a Jupyter environment, please rerun this cell to show the HTML representation or trust the notebook. <br />On GitHub, the HTML representation is unable to render, please try loading this page with nbviewer.org.</b></div><div class=\"sk-container\" hidden><div class=\"sk-item\"><div class=\"sk-estimator sk-toggleable\"><input class=\"sk-toggleable__control sk-hidden--visually\" id=\"sk-estimator-id-1\" type=\"checkbox\" checked><label for=\"sk-estimator-id-1\" class=\"sk-toggleable__label sk-toggleable__label-arrow\">SVC</label><div class=\"sk-toggleable__content\"><pre>SVC(kernel=&#x27;linear&#x27;)</pre></div></div></div></div></div>"
      ],
      "text/plain": [
       "SVC(kernel='linear')"
      ]
     },
     "execution_count": 5,
     "metadata": {},
     "output_type": "execute_result"
    }
   ],
   "source": [
    "svm_classifier = SVC(kernel='linear', C=1.0)  \n",
    "svm_classifier.fit(X_train, y_train)"
   ]
  },
  {
   "cell_type": "code",
   "execution_count": 6,
   "id": "b5d9701c-9868-41a6-94c8-0f9a62d97d82",
   "metadata": {},
   "outputs": [],
   "source": [
    "y_pred = svm_classifier.predict(X_test)"
   ]
  },
  {
   "cell_type": "code",
   "execution_count": 7,
   "id": "2715da16-2ed0-4112-8676-d9f7376c0eaa",
   "metadata": {},
   "outputs": [
    {
     "name": "stdout",
     "output_type": "stream",
     "text": [
      "Accuracy: 0.8\n"
     ]
    }
   ],
   "source": [
    "accuracy = accuracy_score(y_test, y_pred)\n",
    "print(\"Accuracy:\", accuracy)"
   ]
  },
  {
   "cell_type": "code",
   "execution_count": 8,
   "id": "4ef902c4-3b10-4337-ba6f-57e5d8e11c8e",
   "metadata": {},
   "outputs": [],
   "source": [
    "x_min, x_max = X[:, 0].min() - 1, X[:, 0].max() + 1\n",
    "y_min, y_max = X[:, 1].min() - 1, X[:, 1].max() + 1\n",
    "xx, yy = np.meshgrid(np.arange(x_min, x_max, 0.01),\n",
    "                     np.arange(y_min, y_max, 0.01))\n",
    "Z = svm_classifier.predict(np.c_[xx.ravel(), yy.ravel()])\n",
    "Z = Z.reshape(xx.shape)"
   ]
  },
  {
   "cell_type": "code",
   "execution_count": 15,
   "id": "b6f0f766-38dd-47d4-bac0-065ea0f7f162",
   "metadata": {},
   "outputs": [
    {
     "data": {
      "image/png": "[encoded data removed]",
      "text/plain": [
       "<Figure size 640x480 with 1 Axes>"
      ]
     },
     "metadata": {},
     "output_type": "display_data"
    }
   ],
   "source": [
    "plt.contourf(xx, yy, Z, alpha=0.8, cmap=plt.cm.Paired)\n",
    "plt.scatter(X[:, 0], X[:, 1], c=Y, cmap=plt.cm.Paired)\n",
    "plt.xlabel('Sepal Length')\n",
    "plt.ylabel('Sepal Width')\n",
    "plt.title('Decision Boundaries of Linear SVM')\n",
    "plt.show()"
   ]
  },
  {
   "cell_type": "markdown",
   "id": "1bc6d3e2-1bf8-4b80-8e94-a515c5e85fa9",
   "metadata": {},
   "source": [
    "In this implementation, we use the first two features (sepal length and sepal width) of the Iris dataset for visualization purposes.\n",
    "\n",
    "To try different values of the regularization parameter C, you can modify the C value in the SVC constructor in Step 3. The C parameter controls the trade-off between maximizing the margin and minimizing the classification error. Smaller values of C result in a larger margin but may allow more misclassifications, while larger values of C result in a smaller margin but fewer misclassifications."
   ]
  },
  {
   "cell_type": "code",
   "execution_count": 14,
   "id": "fedf9247-c778-44a7-ad0c-b5b0ad30ab97",
   "metadata": {},
   "outputs": [
    {
     "name": "stdout",
     "output_type": "stream",
     "text": [
      "C = 0.1, Accuracy = 0.8222222222222222\n",
      "C = 1, Accuracy = 0.8\n",
      "C = 10, Accuracy = 0.8\n",
      "C = 100, Accuracy = 0.8\n"
     ]
    }
   ],
   "source": [
    "C_values = [0.1, 1, 10, 100]\n",
    "for C_val in C_values:\n",
    "    svm_classifier = SVC(kernel='linear', C=C_val)\n",
    "    svm_classifier.fit(X_train, y_train)\n",
    "    y_pred = svm_classifier.predict(X_test)\n",
    "    accuracy = accuracy_score(y_test, y_pred)\n",
    "    print(f\"C = {C_val}, Accuracy = {accuracy}\")"
   ]
  },
  {
   "cell_type": "code",
   "execution_count": null,
   "id": "b36cea2f-e2e0-4e74-baf7-7ab589f853d1",
   "metadata": {},
   "outputs": [],
   "source": []
  }
 ],
 "metadata": {
  "kernelspec": {
   "display_name": "Python 3 (ipykernel)",
   "language": "python",
   "name": "python3"
  },
  "language_info": {
   "codemirror_mode": {
    "name": "ipython",
    "version": 3
   },
   "file_extension": ".py",
   "mimetype": "text/x-python",
   "name": "python",
   "nbconvert_exporter": "python",
   "pygments_lexer": "ipython3",
   "version": "3.10.8"
  }
 },
 "nbformat": 4,
 "nbformat_minor": 5
}
