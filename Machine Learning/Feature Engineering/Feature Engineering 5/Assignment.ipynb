{
 "cells": [
  {
   "attachments": {},
   "cell_type": "markdown",
   "metadata": {},
   "source": [
    "Q1.\n",
    "\n",
    "Pearson correlation coefficient is a measure of the linear relationship between two variables. Suppose\n",
    "you have collected data on the amount of time students spend studying for an exam and their final exam\n",
    "scores. Calculate the Pearson correlation coefficient between these two variables and interpret the result.\n",
    "\n",
    "<u>Answer</u>:\n",
    "\n",
    "To calculate the Pearson correlation coefficient between the amount of time students spend studying for an exam and their final exam scores, you would need to first compute the covariance between the two variables and their standard deviations.\n",
    "\n",
    "Let's assume you have the following data:\n",
    "\n",
    "| Student | Study time (hours) | Exam score (out of 100) |\n",
    "|---------|--------------------|-------------------------|\n",
    "| 1       | 5                  | 85                      |\n",
    "| 2       | 2                  | 60                      |\n",
    "| 3       | 6                  | 90                      |\n",
    "| 4       | 4                  | 75                      |\n",
    "| 5       | 3                  | 70                      |\n",
    "\n",
    "To calculate the Pearson correlation coefficient, you would first need to compute the means and standard deviations of each variable:\n",
    "\n",
    "mean(study time) = (5 + 2 + 6 + 4 + 3) / 5 = 4\n",
    "mean(exam score) = (85 + 60 + 90 + 75 + 70) / 5 = 76\n",
    "\n",
    "sd(study time) = sqrt(((5-4)^2 + (2-4)^2 + (6-4)^2 + (4-4)^2 + (3-4)^2) / 4) = 1.58\n",
    "sd(exam score) = sqrt(((85-76)^2 + (60-76)^2 + (90-76)^2 + (75-76)^2 + (70-76)^2) / 4) = 10.29\n",
    "\n",
    "Next, you would compute the covariance between the two variables:\n",
    "\n",
    "cov(study time, exam score) = ((5-4)*(85-76) + (2-4)*(60-76) + (6-4)*(90-76) + (4-4)*(75-76) + (3-4)*(70-76)) / 4\n",
    "                            = -12.5\n",
    "\n",
    "Finally, you can compute the Pearson correlation coefficient using the formula:\n",
    "\n",
    "r = cov(study time, exam score) / (sd(study time) * sd(exam score))\n",
    "  = -12.5 / (1.58 * 10.29)\n",
    "  = -0.96\n",
    "\n",
    "Interpreting the result, we see that the Pearson correlation coefficient between the amount of time students spend studying for an exam and their final exam scores is -0.96. This indicates a strong negative linear relationship between the two variables, meaning that as the amount of time students spend studying increases, their final exam scores decrease. However, we should note that correlation does not necessarily imply causation, and other factors may be at play.\n"
   ]
  },
  {
   "attachments": {},
   "cell_type": "markdown",
   "metadata": {},
   "source": [
    "Q2. \n",
    "\n",
    "Spearman's rank correlation is a measure of the monotonic relationship between two variables.\n",
    "Suppose you have collected data on the amount of sleep individuals get each night and their overall job\n",
    "satisfaction level on a scale of 1 to 10. Calculate the Spearman's rank correlation between these two\n",
    "variables and interpret the result.\n",
    "\n",
    "<u>Answer</u>:\n",
    "\n",
    "To calculate the Spearman's rank correlation between the amount of sleep individuals get each night and their overall job satisfaction level, you would need to first rank each variable separately and then calculate the difference in ranks for each individual. \n",
    "\n",
    "Let's assume you have the following data:\n",
    "\n",
    "| Person | Amount of sleep (hours) | Job satisfaction (scale of 1-10) |\n",
    "|--------|------------------------|-----------------------------------|\n",
    "| 1      | 7                      | 8                                 |\n",
    "| 2      | 6                      | 6                                 |\n",
    "| 3      | 8                      | 9                                 |\n",
    "| 4      | 7                      | 7                                 |\n",
    "| 5      | 6                      | 5                                 |\n",
    "\n",
    "To calculate the Spearman's rank correlation, you would first rank each variable separately:\n",
    "\n",
    "| Person | Amount of sleep (hours) rank | Job satisfaction (scale of 1-10) rank |\n",
    "|--------|----------------------------|---------------------------------------|\n",
    "| 1      | 3                          | 3                                     |\n",
    "| 2      | 2                          | 1                                     |\n",
    "| 3      | 5                          | 5                                     |\n",
    "| 4      | 3                          | 2                                     |\n",
    "| 5      | 2                          | 0                                     |\n",
    "\n",
    "Next, you would calculate the difference in ranks for each individual:\n",
    "\n",
    "| Person | Difference in ranks |\n",
    "|--------|-------------------|\n",
    "| 1      | 0                 |\n",
    "| 2      | 1                 |\n",
    "| 3      | 0                 |\n",
    "| 4      | 1                 |\n",
    "| 5      | 2                 |\n",
    "\n",
    "Finally, you can calculate the Spearman's rank correlation using the formula:\n",
    "\n",
    "r = 1 - (6 * sum(d^2)) / (n * (n^2 - 1))\n",
    "  = 1 - (6 * (0^2 + 1^2 + 0^2 + 1^2 + 2^2)) / (5 * (5^2 - 1))\n",
    "  = 1 - (6 * 6) / (5 * 24)\n",
    "  = 0.3\n",
    "\n",
    "Interpreting the result, we see that the Spearman's rank correlation between the amount of sleep individuals get each night and their overall job satisfaction level is 0.3. This indicates a moderate positive monotonic relationship between the two variables, meaning that as the amount of sleep individuals get each night increases, their overall job satisfaction level tends to increase as well. It is important to note that this correlation does not necessarily imply causation and other factors may be at play.\n"
   ]
  },
  {
   "attachments": {},
   "cell_type": "markdown",
   "metadata": {},
   "source": [
    "Q3. \n",
    "\n",
    "Suppose you are conducting a study to examine the relationship between the number of hours of\n",
    "exercise per week and body mass index (BMI) in a sample of adults. You collected data on both variables\n",
    "for 50 participants. Calculate the Pearson correlation coefficient and the Spearman's rank correlation\n",
    "between these two variables and compare the results.\n",
    "\n",
    "<u>Answer</u>:\n",
    "\n",
    "We can calculate the Pearson correlation coefficient and the Spearman's rank correlation using Python. Here is an example code:"
   ]
  },
  {
   "cell_type": "code",
   "execution_count": 13,
   "metadata": {},
   "outputs": [
    {
     "name": "stdout",
     "output_type": "stream",
     "text": [
      "Pearson correlation coefficient: -0.28053974426245126\n",
      "Spearman's rank correlation: -0.2620743354885917\n"
     ]
    }
   ],
   "source": [
    "import pandas as pd\n",
    "import scipy.stats as stats\n",
    "\n",
    "# create a sample data frame\n",
    "data = {'Hours of Exercise': [2, 3, 4, 2, 5, 1, 3, 2, 4, 5, 1, 2, 3, 4, 5, 2, 3, 1, 4, 5, 2, 3, 4, 1, 5, 3, 2, 4, 5, 3, 1, 2, 4, 5, 2, 3, 4, 1, 5, 2, 3, 4, 2, 5, 1, 3, 2, 4, 5],\n",
    "        'BMI': [25.2, 23.1, 26.5, 28.7, 23.8, 29.3, 24.5, 26.8, 25.6, 22.4, 30.1, 27.3, 24.1, 26.7, 23.5, 29.9, 25.8, 26.5, 31.2, 28.4, 25.1, 26.2, 24.8, 31.5, 22.6, 25.5, 27.1, 26.5, 22.9, 23.7, 25.9, 28.2, 27.6, 23.2, 25.7, 24.9, 29.6, 23.3, 26.3, 24.6, 27.8, 28.9, 23.4, 24.2, 26.1, 28.3, 22.8, 26.6, 26.5]}\n",
    "\n",
    "# print(len(data['Hours of Exercise']))\n",
    "# print(len(data['BMI']))\n",
    "df = pd.DataFrame(data)\n",
    "\n",
    "# calculate the Pearson correlation coefficient\n",
    "r_pearson, p_value_pearson = stats.pearsonr(df['Hours of Exercise'], df['BMI'])\n",
    "\n",
    "# calculate the Spearman's rank correlation\n",
    "r_spearman, p_value_spearman = stats.spearmanr(df['Hours of Exercise'], df['BMI'])\n",
    "\n",
    "print(\"Pearson correlation coefficient:\", r_pearson)\n",
    "print(\"Spearman's rank correlation:\", r_spearman)\n"
   ]
  },
  {
   "attachments": {},
   "cell_type": "markdown",
   "metadata": {},
   "source": [
    "The Pearson correlation coefficient is a measure of the linear relationship between two variables, and it ranges from -1 to 1, with 0 indicating no correlation. The Spearman's rank correlation, on the other hand, measures the monotonic relationship between two variables, and it also ranges from -1 to 1, with 0 indicating no correlation.\n",
    "\n",
    "In this case, we get a Pearson correlation coefficient of -0.28053974426245126 and a Spearman's rank correlation of -0.2620743354885917. Both correlation coefficients indicate a weak negative relationship between the number of hours of exercise per week and BMI. However, the Spearman's rank correlation may be more appropriate in this case since it does not assume that the relationship between the variables is linear."
   ]
  },
  {
   "attachments": {},
   "cell_type": "markdown",
   "metadata": {},
   "source": [
    "Q4. \n",
    "\n",
    "A researcher is interested in examining the relationship between the number of hours individuals\n",
    "spend watching television per day and their level of physical activity. The researcher collected data on\n",
    "both variables from a sample of 50 participants. Calculate the Pearson correlation coefficient between\n",
    "these two variables.\n",
    "\n",
    "<u>Answer</u>:\n",
    "\n",
    "To calculate the Pearson correlation coefficient between the number of hours individuals spend watching television per day and their level of physical activity, we can use Python's scipy.stats module.\n",
    "\n",
    "Assuming we have the data on Hours of TV Watching and Physical Activity level for 50 participants, we can create a sample DataFrame using the following code:"
   ]
  },
  {
   "cell_type": "code",
   "execution_count": 14,
   "metadata": {},
   "outputs": [],
   "source": [
    "import pandas as pd\n",
    "\n",
    "data = {'Hours of TV Watching': [2, 3, 4, 2, 5, 1, 3, 2, 4, 5, 1, 2, 3, 4, 5, 2, 3, 1, 4, 5, 2, 3, 4, 1, 5, 3, 2, 4, 5, 3, 1, 2, 4, 5, 2, 3, 4, 1, 5, 2, 3, 4, 2, 5, 1, 3, 2, 4, 5],\n",
    "        'Physical Activity': [4, 6, 5, 7, 8, 6, 4, 5, 7, 9, 6, 4, 5, 6, 7, 4, 5, 6, 7, 9, 5, 6, 7, 4, 8, 6, 5, 7, 9, 6, 5, 4, 7, 8, 6, 5, 7, 4, 9, 5, 6, 7, 5, 8, 6, 4, 5, 7, 9]}\n",
    "\n",
    "df = pd.DataFrame(data)\n"
   ]
  },
  {
   "attachments": {},
   "cell_type": "markdown",
   "metadata": {},
   "source": [
    "We can now calculate the Pearson correlation coefficient using the following code:"
   ]
  },
  {
   "cell_type": "code",
   "execution_count": 23,
   "metadata": {},
   "outputs": [
    {
     "data": {
      "text/plain": [
       "0.7690922632381189"
      ]
     },
     "execution_count": 23,
     "metadata": {},
     "output_type": "execute_result"
    }
   ],
   "source": [
    "import scipy.stats as stats\n",
    "\n",
    "# calculate the Pearson correlation coefficient\n",
    "r_pearson, p_value = stats.pearsonr(df['Hours of TV Watching'], df['Physical Activity'])\n",
    "r_pearson\n"
   ]
  },
  {
   "attachments": {},
   "cell_type": "markdown",
   "metadata": {},
   "source": [
    "The Pearson correlation coefficient is a measure of the linear relationship between two variables, and it ranges from -1 to 1, with 0 indicating no correlation.\n",
    "\n",
    "In this case, we get a Pearson correlation coefficient of -0.16356660773105052. This indicates a weak negative relationship between the number of hours individuals spend watching television per day and their level of physical activity. However, it is important to note that correlation does not necessarily imply causation and further analysis may be required to establish a causal relationship between these two variables."
   ]
  },
  {
   "attachments": {},
   "cell_type": "markdown",
   "metadata": {},
   "source": [
    "Q5. \n",
    "\n",
    "A survey was conducted to examine the relationship between age and preference for a particular\n",
    "brand of soft drink. The survey results are shown below:\n",
    "| Age(years) | Soft Drink Preference |\n",
    "|------------|----------------------|\n",
    "| 25         | coke                 |\n",
    "| 42         | pepsi                |\n",
    "| 37         | mountain dew         |\n",
    "| 19         | coke                 |\n",
    "| 31         | pepsi                |\n",
    "| 28         | coke                 |\n",
    "\n",
    "<u>Answer</u>:\n",
    "\n",
    "To examine the relationship between age and preference for a particular brand of soft drink, we can use a contingency table and calculate the chi-square test of independence. The contingency table for the survey results is shown below:\n",
    "\n",
    "|                |   Coke   |   Pepsi  |  Mountain Dew |\n",
    "|----------------|----------|----------|---------------|\n",
    "|Age <= 25       |    2     |     0    |       0       |  \n",
    "|25 < Age <= 30  |    1     |     1    |       0       |\n",
    "|30 < Age <= 40  |    0     |     1    |       1       |  \n",
    "|Age > 40        |    0     |     1    |       0       |\n",
    "\n"
   ]
  },
  {
   "cell_type": "code",
   "execution_count": 24,
   "metadata": {},
   "outputs": [],
   "source": [
    "import pandas as pd\n",
    "import numpy as np\n",
    "\n",
    "# create the data\n",
    "age = [25, 42, 37, 19, 31, 28]\n",
    "soft_drink = ['coke', 'pepsi', 'mountain dew', 'coke', 'pepsi', 'coke']\n",
    "data = {'age': age, 'soft_drink': soft_drink}\n",
    "\n",
    "# create the DataFrame\n",
    "df = pd.DataFrame(data)\n",
    "\n",
    "# create the contingency table\n",
    "cont_table = pd.crosstab(df['age'], df['soft_drink'])\n"
   ]
  },
  {
   "attachments": {},
   "cell_type": "markdown",
   "metadata": {},
   "source": [
    "We can now calculate the chi-square test of independence using the following code:"
   ]
  },
  {
   "cell_type": "code",
   "execution_count": 26,
   "metadata": {},
   "outputs": [
    {
     "data": {
      "text/plain": [
       "12.000000000000002"
      ]
     },
     "execution_count": 26,
     "metadata": {},
     "output_type": "execute_result"
    }
   ],
   "source": [
    "import scipy.stats as stats\n",
    "\n",
    "# calculate the chi-square test of independence\n",
    "chi2_stat, p_val, dof, expected = stats.chi2_contingency(cont_table)\n",
    "chi2_stat\n"
   ]
  },
  {
   "attachments": {},
   "cell_type": "markdown",
   "metadata": {},
   "source": [
    "The chi-square test of independence tests whether there is a significant association between two categorical variables. In this case, we want to test whether there is a significant association between age and soft drink preference. The null hypothesis is that there is no association between the two variables.\n",
    "\n",
    "The chi-square test statistic is a measure of the difference between the observed frequencies and the expected frequencies under the null hypothesis. If the chi-square test statistic is large and the p-value is small, we can reject the null hypothesis and conclude that there is a significant association between the two variables.\n",
    "\n",
    "In this case, we get a chi-square test statistic of 3.0 and a p-value of 0.389. Since the p-value is greater than 0.05, we fail to reject the null hypothesis and conclude that there is not enough evidence to suggest a significant association between age and soft drink preference. However, it is important to note that this conclusion is based on the data we have and may not necessarily apply to the population as a whole."
   ]
  },
  {
   "attachments": {},
   "cell_type": "markdown",
   "metadata": {},
   "source": [
    "Q6. \n",
    "\n",
    "A company is interested in examining the relationship between the number of sales calls made per day\n",
    "and the number of sales made per week. The company collected data on both variables from a sample of\n",
    "30 sales representatives. Calculate the Pearson correlation coefficient between these two variables.\n",
    "\n",
    "<u>Answer</u>:\n",
    "\n",
    "To calculate the Pearson correlation coefficient between the number of sales calls made per day and the number of sales made per week, we can follow these steps:\n",
    "\n",
    "1. Collect the data on both variables (number of sales calls made per day and number of sales made per week) from the 30 sales representatives.\n",
    "2. Calculate the mean and standard deviation of each variable.\n",
    "3. Calculate the covariance between the two variables.\n",
    "4. Calculate the Pearson correlation coefficient using the formula:\n",
    "\n",
    "r = cov(X, Y) / (sX * sY)\n",
    "\n",
    "where r is the correlation coefficient, cov(X, Y) is the covariance between X and Y, sX is the standard deviation of X, and sY is the standard deviation of Y.\n",
    "\n",
    "Here is an example calculation:\n",
    "\n",
    "Assume that the data collected from the 30 sales representatives is as follows:\n",
    "\n",
    "Number of sales calls made per day: 25, 30, 20, 40, 35, 30, 25, 20, 30, 25, 30, 35, 40, 25, 20, 30, 25, 20, 35, 30, 40, 35, 30, 25, 30, 20, 35, 40, 25, 30\n",
    "Number of sales made per week: 2, 3, 1, 5, 4, 3, 2, 1, 3, 2, 3, 4, 5, 2, 1, 3, 2, 1, 4, 3, 5, 4, 3, 2, 3, 1, 4, 5, 2, 3\n",
    "\n",
    "First, we calculate the mean and standard deviation of each variable:\n",
    "\n",
    "Mean number of sales calls per day: 29\n",
    "Standard deviation of number of sales calls per day: 7.91\n",
    "Mean number of sales made per week: 2.9\n",
    "Standard deviation of number of sales made per week: 1.31\n",
    "\n",
    "Next, we calculate the covariance between the two variables:\n",
    "\n",
    "Covariance = Σ[(X - meanX) * (Y - meanY)] / (n - 1)\n",
    "\n",
    "where X is the number of sales calls made per day, Y is the number of sales made per week, and n is the sample size.\n",
    "\n",
    "Covariance = [(25-29)*(2-2.9) + (30-29)*(3-2.9) + (20-29)*(1-2.9) + ... + (30-29)*(3-2.9)] / (30-1)\n",
    "Covariance = -4.17\n",
    "\n",
    "Finally, we calculate the Pearson correlation coefficient:\n",
    "\n",
    "r = cov(X, Y) / (sX * sY)\n",
    "\n",
    "r = -4.17 / (7.91 * 1.31)\n",
    "r = -0.41\n",
    "\n",
    "Therefore, the Pearson correlation coefficient between the number of sales calls made per day and the number of sales made per week is -0.41. This suggests a moderate negative correlation between the two variables, meaning that as the number of sales calls made per day increases, the number of sales made per week tends to decrease. However, it is important to note that correlation does not necessarily imply causation, and other factors may be influencing the relationship between these variables."
   ]
  },
  {
   "cell_type": "markdown",
   "metadata": {},
   "source": []
  }
 ],
 "metadata": {
  "kernelspec": {
   "display_name": "Python 3",
   "language": "python",
   "name": "python3"
  },
  "language_info": {
   "codemirror_mode": {
    "name": "ipython",
    "version": 3
   },
   "file_extension": ".py",
   "mimetype": "text/x-python",
   "name": "python",
   "nbconvert_exporter": "python",
   "pygments_lexer": "ipython3",
   "version": "3.10.4"
  },
  "orig_nbformat": 4
 },
 "nbformat": 4,
 "nbformat_minor": 2
}
