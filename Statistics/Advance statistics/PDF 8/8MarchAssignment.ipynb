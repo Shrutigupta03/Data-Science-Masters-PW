{
 "cells": [
  {
   "cell_type": "markdown",
   "id": "456f673e-a8fd-41d9-840f-3d9e688bdf7c",
   "metadata": {},
   "source": [
    "*Q1. What is the Probability density function?*\n",
    "\n",
    "***Answer***:\n",
    "The Probability Density Function (PDF) is a concept in statistics and probability theory that describes the likelihood of a continuous random variable taking on a specific value within a given range. The PDF represents the distribution of probabilities over the entire range of possible values for the variable.\n",
    "\n",
    "Mathematically, the PDF is defined as the derivative of the cumulative distribution function (CDF) of a random variable. The CDF gives the probability that the random variable takes on a value less than or equal to a given value. By taking the derivative of the CDF, we obtain the PDF, which provides the probability of the variable taking on a specific value.\n",
    "\n",
    "The PDF is non-negative, and the total area under the curve of the PDF represents the probability of all possible outcomes, which is equal to 1. The height of the curve at any point on the x-axis represents the relative likelihood of the random variable taking on that particular value.\n",
    "\n",
    "The PDF is commonly used in various statistical analyses, such as hypothesis testing, estimation, and modeling. It allows us to analyze and describe the distribution of continuous random variables, providing valuable information about the likelihood of different outcomes occurring within a given range."
   ]
  },
  {
   "cell_type": "markdown",
   "id": "a736d9e4-843c-42c5-bc17-8bafd8cca190",
   "metadata": {},
   "source": [
    "*Q2. What are the types of Probability distribution?*\n",
    "\n",
    "***Answer:***\n",
    "<ol>\n",
    "    <li>Probability Density Function (PDF):</li>\n",
    " the Probability Density Function (PDF) is used for continuous random variables and describes the probability distribution of the variable. It assigns probabilities as densities, representing the likelihood of the variable taking on specific values within a given range. The PDF is non-negative, integrates to 1 over the entire range, and its height at a point indicates the probability density at that point.\n",
    "    <li>Probability Mass Function (PMF):</li>\n",
    "The Probability Mass Function (PMF) is used for discrete random variables and provides the probability distribution of the variable. It assigns probabilities as masses to specific values, indicating the probability of the variable taking on each possible outcome. The PMF values are non-negative and sum up to 1 over all possible values.\n",
    "</ol>\n",
    "Overall, the PDF and PMF are mathematical functions that describe the probabilities associated with different values of random variables, depending on whether the variables are continuous or discrete, respectively."
   ]
  },
  {
   "cell_type": "markdown",
   "id": "07a042ad-8eb8-48c7-8ffd-28bc0d2a6b09",
   "metadata": {},
   "source": [
    "*Q3. Write a Python function to calculate the probability density function of a normal distribution with given mean and standard deviation at a given point.*\n",
    "\n",
    "***Answer:***\n",
    "Python function that calculates the probability density function (PDF) of a normal distribution at a given point, given the mean and standard deviation:"
   ]
  },
  {
   "cell_type": "code",
   "execution_count": 1,
   "id": "9f0439a4-2d48-4751-8848-3888ef73fe1f",
   "metadata": {},
   "outputs": [],
   "source": [
    "import math\n",
    "\n",
    "def normal_pdf(x, mean, std_dev):\n",
    "    coefficient = 1 / (std_dev * math.sqrt(2 * math.pi))\n",
    "    exponent = -((x - mean) ** 2) / (2 * std_dev ** 2)\n",
    "    pdf = coefficient * math.exp(exponent)\n",
    "    return pdf"
   ]
  },
  {
   "cell_type": "markdown",
   "id": "46951c75-38a3-4e05-9f72-8b22c95a4e23",
   "metadata": {},
   "source": [
    "In this function, x represents the point at which you want to calculate the PDF, mean is the mean of the normal distribution, and std_dev is the standard deviation.\n",
    "\n",
    "The PDF of the normal distribution is calculated using the formula:\n",
    "\n",
    "PDF(x) = (1 / (std_dev * sqrt(2 * pi))) * exp(-((x - mean) ** 2) / (2 * std_dev ** 2))\n",
    "\n",
    "The function returns the PDF value at the given point x.\n",
    "\n",
    "Here's an example of how you can use the function:"
   ]
  },
  {
   "cell_type": "code",
   "execution_count": 2,
   "id": "2019c29d-4039-4b2d-b79a-8211cd2957f4",
   "metadata": {},
   "outputs": [
    {
     "name": "stdout",
     "output_type": "stream",
     "text": [
      "PDF at x = 1.5 is 0.12951759566589174\n"
     ]
    }
   ],
   "source": [
    "mean = 0\n",
    "std_dev = 1\n",
    "x = 1.5\n",
    "\n",
    "pdf_value = normal_pdf(x, mean, std_dev)\n",
    "print(\"PDF at x =\", x, \"is\", pdf_value)\n"
   ]
  },
  {
   "cell_type": "markdown",
   "id": "0b51bbf2-9498-4171-a0d8-aae0ed60f83e",
   "metadata": {},
   "source": [
    "This example calculates the PDF of a standard normal distribution (mean = 0, standard deviation = 1) at x = 1.5 and prints the result.\n",
    "\n",
    "Please note that this implementation assumes a standard normal distribution (mean = 0, standard deviation = 1). You can adjust the mean and std_dev parameters according to your specific normal distribution."
   ]
  },
  {
   "cell_type": "markdown",
   "id": "3b7e5938-cfb2-4ba5-aba4-9f3c02464319",
   "metadata": {},
   "source": [
    "*Q4. What are the properties of Binomial distribution? Give two examples of events where binomial distribution can be applied.*\n",
    "\n",
    "***Answer:***\n",
    "The Binomial distribution has several properties that distinguish it:\n",
    "<ol>\n",
    "<li>\n",
    "Fixed Number of Trials: The Binomial distribution applies to situations with a fixed number of independent trials, denoted by 'n'.</li>\n",
    "<li> \n",
    "Independent Trials: Each trial is assumed to be independent of the others, meaning the outcome of one trial does not affect the outcome of the others.</li>\n",
    "<li>\n",
    "Binary Outcomes: Each trial results in one of two possible outcomes, often referred to as \"success\" and \"failure.\"</li>\n",
    "<li>\n",
    "Constant Probability: The probability of success, denoted by 'p', remains constant for each trial.</li>\n",
    "<li>\n",
    "Discrete Distribution: The Binomial distribution is a discrete probability distribution, meaning it models the probabilities of obtaining specific discrete values (0, 1, 2, ..., n) of the number of successes.</li>\n",
    "</ol>\n",
    "\n",
    "Examples of events where the Binomial distribution can be applied are:\n",
    "<ol>\n",
    "<li>\n",
    "Coin Flips: Consider a scenario where you flip a fair coin 10 times and want to calculate the probability of obtaining a specific number of heads. Here, each flip has two possible outcomes (heads or tails), and the trials are independent with a constant probability of success (0.5 for a fair coin).</li>\n",
    "<li>\n",
    "Election Results: Suppose you are analyzing the results of a political election with two candidates. You want to determine the probability of a specific number of voters selecting a particular candidate out of a fixed number of voters. Each voter can be considered a trial with two possible outcomes (voting for the candidate or not), and the trials are assumed to be independent with a constant probability of success (the candidate's probability of being chosen).</li>\n",
    "</ol>\n",
    "In both of these examples, the Binomial distribution can be applied to calculate the probabilities associated with different numbers of successes (such as the number of heads obtained or the number of votes for a candidate)."
   ]
  },
  {
   "cell_type": "markdown",
   "id": "c01ce343-b1fd-4234-8cec-81309a08c4d4",
   "metadata": {},
   "source": [
    "*Q5. Generate a random sample of size 1000 from a binomial distribution with probability of success 0.4 and plot a histogram of the results using matplotlib.*\n",
    "\n",
    "***Answer:***"
   ]
  },
  {
   "cell_type": "code",
   "execution_count": 3,
   "id": "46f65837-4de9-4ac3-9773-d176d1bfcf1e",
   "metadata": {},
   "outputs": [
    {
     "data": {
      "image/png": "[encoded data removed]",
      "text/plain": [
       "<Figure size 640x480 with 1 Axes>"
      ]
     },
     "metadata": {},
     "output_type": "display_data"
    }
   ],
   "source": [
    "import numpy as np\n",
    "import matplotlib.pyplot as plt\n",
    "\n",
    "# Set the parameters\n",
    "sample_size = 1000\n",
    "probability_success = 0.4\n",
    "\n",
    "# Generate the random sample\n",
    "sample = np.random.binomial(1, probability_success, size=sample_size)\n",
    "\n",
    "# Plot the histogram\n",
    "plt.hist(sample, bins=2, rwidth=0.8, align='mid')\n",
    "\n",
    "# Set the labels and title\n",
    "plt.xlabel('Success')\n",
    "plt.ylabel('Frequency')\n",
    "plt.title('Binomial Distribution (n=1000, p=0.4)')\n",
    "\n",
    "# Display the plot\n",
    "plt.show()\n"
   ]
  },
  {
   "cell_type": "markdown",
   "id": "e10dc186-debc-41c1-acd8-40a0674adb94",
   "metadata": {},
   "source": [
    "In this code, np.random.binomial is used to generate a random sample of size 1000 from a binomial distribution with a probability of success of 0.4. The bins parameter in the plt.hist function is set to 2 to represent the two possible outcomes (0 or 1). The resulting histogram is then plotted using Matplotlib. Finally, the labels and title are set, and the plot is displayed using plt.show().\n",
    "\n",
    "Running this code will generate a histogram plot showing the frequency of successes (1s) and failures (0s) in the random sample."
   ]
  },
  {
   "cell_type": "markdown",
   "id": "bdc4fc97-0f2f-4160-90c7-a90bf890fed4",
   "metadata": {},
   "source": [
    "*Q6. Write a Python function to calculate the cumulative distribution function of a Poisson distribution with given mean at a given point.*\n",
    "\n",
    "***Answer:****\n",
    "\n",
    "Python function that calculates the cumulative distribution function (CDF) of a Poisson distribution at a given point, given the mean:"
   ]
  },
  {
   "cell_type": "code",
   "execution_count": null,
   "id": "625a9c8b-fe36-4b32-bdce-75c3ea8c69c8",
   "metadata": {},
   "outputs": [],
   "source": [
    "import math\n",
    "\n",
    "def poisson_cdf(x, mean):\n",
    "    cdf = 0.0\n",
    "    for i in range(x + 1):\n",
    "        cdf += (math.exp(-mean) * mean ** i) / math.factorial(i)\n",
    "    return cdf\n"
   ]
  },
  {
   "cell_type": "markdown",
   "id": "1c434694-a0d7-4137-bd8e-0918e5c269d1",
   "metadata": {},
   "source": [
    "In this function, x represents the point at which you want to calculate the CDF, and mean is the mean of the Poisson distribution.\n",
    "\n",
    "The CDF of the Poisson distribution is calculated by summing up the probabilities of all possible values less than or equal to the given point x. Each term in the summation is calculated using the formula:\n",
    "\n",
    "CDF(x) = ∑[(e^(-mean) * mean^i) / i!] for i from 0 to x\n",
    "\n",
    "The function iterates over the range from 0 to x (inclusive), calculates the probability for each term, and accumulates the sum to calculate the CDF.\n",
    "\n",
    "Here's an example of how the function can be used:"
   ]
  },
  {
   "cell_type": "code",
   "execution_count": 5,
   "id": "dc0f62ad-336b-4daa-b707-58acf04adb71",
   "metadata": {},
   "outputs": [
    {
     "name": "stdout",
     "output_type": "stream",
     "text": [
      "CDF at x = 3 is 0.7575761331330659\n"
     ]
    }
   ],
   "source": [
    "mean = 2.5\n",
    "x = 3\n",
    "\n",
    "cdf_value = poisson_cdf(x, mean)\n",
    "print(\"CDF at x =\", x, \"is\", cdf_value)\n"
   ]
  },
  {
   "cell_type": "markdown",
   "id": "c991e9c0-1d10-4ca9-891b-cd143723913b",
   "metadata": {},
   "source": [
    "This example calculates the CDF of a Poisson distribution with a mean of 2.5 at x = 3 and prints the result.\n",
    "\n",
    "Please note that the implementation assumes a Poisson distribution with a given mean. You can adjust the mean parameter according to your specific Poisson distribution."
   ]
  },
  {
   "cell_type": "markdown",
   "id": "354e7951-79ed-4f62-a619-ba45cffa76ab",
   "metadata": {},
   "source": [
    "*Q7. How Binomial distribution different from Poisson distribution?*\n",
    "\n",
    "***Answer:***\n",
    "\n",
    "The key differences between the Binomial distribution and Poisson distribution:\n",
    "<ol><li>\n",
    "    Number of Trials:</li>\n",
    "<ul><li>\n",
    "    Binomial: Fixed number of independent trials with two possible outcomes (success or failure).</li>\n",
    "    <li>\n",
    "        Poisson: No fixed number of trials; models the random occurrence of events in a fixed interval.</li></ul>\n",
    "    <li>\n",
    "        Nature of Events:</li>\n",
    "<ul><li>\n",
    "    Binomial: Each trial is assumed to be independent and has the same constant probability of success.</li>\n",
    "    <li>\n",
    "Poisson: Events occur randomly in time or space, assumed to be independent, but the rate of occurrence can vary.</li></ul>\n",
    "    <li>Distribution Shape:</li>\n",
    "<ul><li>\n",
    "    Binomial: Shape can be symmetric, skewed, or bimodal depending on the parameters.</li>\n",
    "    <li>\n",
    "        Poisson: Typically skewed, often right-skewed.</li></ul>\n",
    "    <li>Parameters:</li>\n",
    "<ul><li>\n",
    "    Binomial: Two parameters: number of trials and probability of success.</li>\n",
    "    <li>\n",
    "        Poisson: Single parameter: average rate of occurrence (often denoted as λ).</li></ul>\n",
    "    <li>Probability Calculation:</li>\n",
    "<ul><li>\n",
    "Binomial: Calculated using the binomial coefficient formula along with the probability of success for each trial.</li>\n",
    "    <li>\n",
    "        Poisson: Calculated using the Poisson formula, which involves the average rate of occurrence.</li></ul>\n",
    "    <li>Limiting Behavior:</li>\n",
    "<ul><li>\n",
    "As the number of trials in the Binomial distribution becomes large and the probability of success becomes small (keeping the product np constant), it approaches the shape of the Poisson distribution.</li>\n",
    "    <li>\n",
    "The Poisson distribution can be considered as a limiting case of the Binomial distribution when the number of trials tends to infinity and the probability of success tends to zero, while their product remains constant.</li></ul>\n",
    "\n",
    "In summary, the Binomial distribution applies to a fixed number of independent trials with two outcomes, while the Poisson distribution models the random occurrence of events in a fixed interval without a predetermined number of trials. The Binomial distribution has two parameters, while the Poisson distribution has one parameter"
   ]
  },
  {
   "cell_type": "markdown",
   "id": "75ec2456-92c6-484e-8958-556be73abd16",
   "metadata": {},
   "source": [
    "*Q8. Generate a random sample of size 1000 from a Poisson distribution with mean 5 and calculate the sample mean and variance.*\n",
    "\n",
    "***Answer:***"
   ]
  },
  {
   "cell_type": "code",
   "execution_count": 6,
   "id": "fed2083b-478a-41f1-84d3-87c560b4acf0",
   "metadata": {},
   "outputs": [
    {
     "name": "stdout",
     "output_type": "stream",
     "text": [
      "Sample Mean: 5.031\n",
      "Sample Variance: 4.838039000000001\n"
     ]
    }
   ],
   "source": [
    "import numpy as np\n",
    "\n",
    "# Set the parameters\n",
    "sample_size = 1000\n",
    "mean = 5\n",
    "\n",
    "# Generate the random sample\n",
    "sample = np.random.poisson(mean, size=sample_size)\n",
    "\n",
    "# Calculate the sample mean and variance\n",
    "sample_mean = np.mean(sample)\n",
    "sample_variance = np.var(sample)\n",
    "\n",
    "# Print the results\n",
    "print(\"Sample Mean:\", sample_mean)\n",
    "print(\"Sample Variance:\", sample_variance)\n"
   ]
  },
  {
   "cell_type": "markdown",
   "id": "8c370444-5118-4ab5-8b39-d376fec4491a",
   "metadata": {},
   "source": [
    "In this code, np.random.poisson is used to generate a random sample of size 1000 from a Poisson distribution with a mean of 5. The size parameter is set to sample_size to specify the desired sample size.\n",
    "\n",
    "The sample mean is calculated using np.mean, which computes the arithmetic mean of the sample. The sample variance is calculated using np.var, which computes the variance of the sample.\n",
    "\n",
    "Finally, the sample mean and variance are printed to the console.\n",
    "\n",
    "Running this code will generate a random sample of size 1000 from a Poisson distribution with a mean of 5, and calculate the sample mean and variance based on the generated sample."
   ]
  },
  {
   "cell_type": "markdown",
   "id": "055033f2-c859-4ca6-98b0-39f945100826",
   "metadata": {},
   "source": [
    "*Q9. How mean and variance are related in Binomial distribution and Poisson distribution?*\n",
    "\n",
    "***Answer:***\n",
    "\n",
    "In both the Binomial distribution and Poisson distribution, the mean and variance are related, but the nature of their relationship differs.\n",
    "\n",
    "For the Binomial distribution:\n",
    "- Mean: The mean of a Binomial distribution is given by the product of the number of trials ('n') and the probability of success ('p'): mean = n * p.\n",
    "- Variance: The variance of a Binomial distribution is given by the product of the number of trials, the probability of success, and the probability of failure ('q = 1 - p'): variance = n * p * q = n * p * (1 - p).\n",
    "\n",
    "The variance of a Binomial distribution is dependent on both the number of trials and the probability of success. As the number of trials increases while keeping the probability of success fixed, the variance also increases. Similarly, as the probability of success increases or decreases, the variance will change accordingly.\n",
    "\n",
    "For the Poisson distribution:\n",
    "- Mean: The mean of a Poisson distribution is equal to the parameter of the distribution, denoted by λ (lambda): mean = λ.\n",
    "- Variance: The variance of a Poisson distribution is also equal to the parameter λ: variance = λ.\n",
    "\n",
    "In the Poisson distribution, the variance is equal to the mean. This property holds regardless of the specific value of λ. This relationship implies that as the average rate of occurrence (λ) increases, the spread of the distribution also increases.\n",
    "\n",
    "In summary, for the Binomial distribution, the variance depends on both the number of trials and the probability of success, while for the Poisson distribution, the variance is equal to the mean. In the Binomial distribution, the variance can be adjusted by changing the number of trials or the probability of success, while in the Poisson distribution, the variance is solely determined by the average rate of occurrence."
   ]
  },
  {
   "cell_type": "markdown",
   "id": "a0de7ab4-2e15-493a-8e69-2d7e5c9fd9ee",
   "metadata": {},
   "source": [
    "*Q10. In normal distribution with respect to mean position, where does the least frequent data appear?*"
   ]
  }
 ],
 "metadata": {
  "kernelspec": {
   "display_name": "Python 3 (ipykernel)",
   "language": "python",
   "name": "python3"
  },
  "language_info": {
   "codemirror_mode": {
    "name": "ipython",
    "version": 3
   },
   "file_extension": ".py",
   "mimetype": "text/x-python",
   "name": "python",
   "nbconvert_exporter": "python",
   "pygments_lexer": "ipython3",
   "version": "3.10.8"
  }
 },
 "nbformat": 4,
 "nbformat_minor": 5
}
