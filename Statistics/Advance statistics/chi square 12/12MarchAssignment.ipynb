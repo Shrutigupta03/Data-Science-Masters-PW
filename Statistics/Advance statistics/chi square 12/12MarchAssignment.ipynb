{
 "cells": [
  {
   "cell_type": "markdown",
   "id": "a2d9e66a-def2-4cc5-8bc4-d512c39c6deb",
   "metadata": {},
   "source": [
    "**Q1.** Calculate the 95% confidence interval for a sample of data with a mean of 50 and a standard deviation of 5 using Python. Interpret the results.\n",
    "\n",
    "**Answer:**\n",
    "\n",
    "To calculate the 95% confidence interval for a sample of data with a mean of 50 and a standard deviation of 5 using Python, you can use the `scipy.stats` module. Here's the code to calculate the confidence interval:"
   ]
  },
  {
   "cell_type": "code",
   "execution_count": 2,
   "id": "82b86420-4dc5-4c5b-8e51-0b641b86596e",
   "metadata": {},
   "outputs": [
    {
     "name": "stdout",
     "output_type": "stream",
     "text": [
      "95% Confidence Interval: [49.02, 50.98]\n"
     ]
    }
   ],
   "source": [
    "import scipy.stats as stats\n",
    "\n",
    "sample_mean = 50\n",
    "sample_std = 5\n",
    "confidence_level = 0.95\n",
    "sample_size = 100  # Assuming a sample size of 100\n",
    "\n",
    "# Calculate the standard error\n",
    "standard_error = sample_std / (sample_size ** 0.5)\n",
    "\n",
    "# Calculate the margin of error\n",
    "margin_of_error = stats.norm.ppf(1 - (1 - confidence_level) / 2) * standard_error\n",
    "\n",
    "# Calculate the lower and upper bounds of the confidence interval\n",
    "lower_bound = sample_mean - margin_of_error\n",
    "upper_bound = sample_mean + margin_of_error\n",
    "\n",
    "# Print the results\n",
    "print(\"95% Confidence Interval: [{:.2f}, {:.2f}]\".format(lower_bound, upper_bound))\n"
   ]
  },
  {
   "cell_type": "markdown",
   "id": "d32317b1-27f8-41d8-a2f5-6cb6e4f128b7",
   "metadata": {},
   "source": [
    "Interpreting the results:\n",
    "\n",
    "we can be 95% confident that the true population mean falls within the range of 49.02 to 50.98, based on the sample data provided."
   ]
  },
  {
   "cell_type": "markdown",
   "id": "0055c4f3-0793-481d-8925-6868217ca5fb",
   "metadata": {},
   "source": [
    "**Q2.** Conduct a chi-square goodness of fit test to determine if the distribution of colors of M&Ms in a bag matches the expected distribution of 20% blue, 20% orange, 20% green, 10% yellow, 10% red, and 20% brown. Use Python to perform the test with a significance level of 0.05.\n",
    "\n",
    "**Answer:**\n",
    "\n",
    "To conduct a chi-square goodness of fit test in Python to determine if the distribution of colors of M&Ms in a bag matches the expected distribution, you can use the `scipy.stats` module. Here's the code to perform the test:"
   ]
  },
  {
   "cell_type": "code",
   "execution_count": 5,
   "id": "2d70a6a6-830c-412e-ace9-f87120b157ee",
   "metadata": {},
   "outputs": [
    {
     "name": "stdout",
     "output_type": "stream",
     "text": [
      "Chi-square statistic: 5.909090909090908\n",
      "p-value: 0.31516553465806285\n",
      "Fail to reject the null hypothesis: The distribution of colors matches the expected distribution.\n"
     ]
    }
   ],
   "source": [
    "import numpy as np\n",
    "from scipy.stats import chisquare\n",
    "\n",
    "observed = np.array([30, 25, 20, 10, 10, 15])  # Observed frequencies of each color\n",
    "expected = np.array([0.2, 0.2, 0.2, 0.1, 0.1, 0.2]) * np.sum(observed)  # Expected frequencies of each color\n",
    "\n",
    "# Perform the chi-square goodness of fit test\n",
    "chi2, p_value = chisquare(f_obs=observed, f_exp=expected)\n",
    "\n",
    "# Print the test results\n",
    "print(\"Chi-square statistic:\", chi2)\n",
    "print(\"p-value:\", p_value)\n",
    "\n",
    "# Check if the p-value is less than the significance level\n",
    "alpha = 0.05\n",
    "if p_value < alpha:\n",
    "    print(\"Reject the null hypothesis: The distribution of colors does not match the expected distribution.\")\n",
    "else:\n",
    "    print(\"Fail to reject the null hypothesis: The distribution of colors matches the expected distribution.\")\n"
   ]
  },
  {
   "cell_type": "markdown",
   "id": "eecc490e-004d-4c57-8f50-7ee57260299a",
   "metadata": {},
   "source": [
    "In this code, we set up the observed frequencies of each color as `observed` and the expected frequencies based on the expected distribution as `expected`. We then use the `chi2_contingency` function to perform the chi-square goodness of fit test.\n",
    "\n",
    "The test results include the chi-square statistic and the p-value. The chi-square statistic measures the difference between the observed and expected frequencies, and the p-value determines the statistical significance of the difference. If the p-value is less than the significance level (0.05 in this case), we reject the null hypothesis, indicating that the distribution of colors does not match the expected distribution. Otherwise, if the p-value is greater than or equal to the significance level, we fail to reject the null hypothesis, indicating that the distribution of colors matches the expected distribution."
   ]
  },
  {
   "cell_type": "markdown",
   "id": "28ca1ed2-4821-4f66-9406-043ebdb18daa",
   "metadata": {},
   "source": [
    "**Q3.** Use Python to calculate the chi-square statistic and p-value for a contingency table with the following data:\n\n",
    "|        | Group A | Group B |\n",
    "|--------|---------|---------|\n",
    "| Outcome 1 |    20   |    15   |\n",
    "| Outcome 2 |    10   |    25   |\n",
    "| Outcome 3 |    15   |    20   |\n",
    "\n",
    "Interpret the results of the test.\n",
    "\n",
    "**Answer:**"
   ]
  },
  {
   "cell_type": "code",
   "execution_count": 6,
   "id": "75ac02d8-fc77-4ef3-a2de-9416a8bad84f",
   "metadata": {},
   "outputs": [
    {
     "name": "stdout",
     "output_type": "stream",
     "text": [
      "Chi-square statistic: 5.833333333333334\n",
      "p-value: 0.05411376622282158\n"
     ]
    }
   ],
   "source": [
    "import numpy as np\n",
    "from scipy.stats import chi2_contingency\n",
    "\n",
    "# Define the contingency table\n",
    "table = np.array([[20, 15],\n",
    "                  [10, 25],\n",
    "                  [15, 20]])\n",
    "\n",
    "# Perform the chi-square test for independence\n",
    "chi2, p_value, _, _ = chi2_contingency(table)\n",
    "\n",
    "# Print the test results\n",
    "print(\"Chi-square statistic:\", chi2)\n",
    "print(\"p-value:\", p_value)"
   ]
  },
  {
   "cell_type": "markdown",
   "id": "d0546128-0e75-4465-b2e4-5cdd5c9ce302",
   "metadata": {},
   "source": [
    "**Q4.** A study of the prevalence of smoking in a population of 500 individuals found that 60 individuals\n",
    "smoked. Use Python to calculate the 95% confidence interval for the true proportion of individuals in the\n",
    "population who smoke.\n",
    "\n",
    "**Answer:**\n",
    "\n",
    "To calculate the 95% confidence interval for the true proportion of individuals in the population who smoke, we can use the Wilson score interval method. Here's the Python code to calculate the confidence interval:"
   ]
  },
  {
   "cell_type": "code",
   "execution_count": null,
   "id": "59fdf2a5-a74f-4c87-8755-f60675183e2a",
   "metadata": {},
   "outputs": [],
   "source": [
    "import statsmodels.api as sm\n",
    "\n",
    "n = 500  # Total population size\n",
    "x = 60  # Number of individuals who smoke\n",
    "\n",
    "# Calculate the confidence interval using the Wilson score interval method\n",
    "ci_lower, ci_upper = sm.stats.proportion_confint(x, n, alpha=0.05, method='wilson')\n",
    "\n",
    "# Print the confidence interval\n",
    "print(\"95% Confidence Interval: [{:.4f}, {:.4f}]\".format(ci_lower, ci_upper))"
   ]
  },
  {
   "cell_type": "markdown",
   "id": "b07138ab-5b52-43e4-8823-f3d05285f38f",
   "metadata": {},
   "source": [
    "In this code, we use the `proportion_confint` function from the `statsmodels` library to calculate the confidence interval. The function takes the number of successes (`x`), total population size (`n`), significance level (`alpha`), and the method for calculating the interval (`method='wilson'` in this case).\n",
    "\n",
    "The `proportion_confint` function returns the lower and upper bounds of the confidence interval. We then print the confidence interval in the output.\n",
    "\n",
    "For the given study, the 95% confidence interval for the true proportion of individuals in the population who smoke would be printed as a range in the form [lower_bound, upper_bound]."
   ]
  },
  {
   "cell_type": "markdown",
   "id": "83b28467-ed29-4ce0-a1da-b6bfe30bcd94",
   "metadata": {},
   "source": [
    "**Q5.** Calculate the 90% confidence interval for a sample of data with a mean of 75 and a standard deviation of 12 using Python. Interpret the results.\n",
    "\n",
    "**Answer:**\n",
    "\n",
    "To calculate the 90% confidence interval for a sample of data with a mean of 75 and a standard deviation of 12 using Python, we can use the scipy.stats module. Here's the code to calculate the confidence interval:"
   ]
  },
  {
   "cell_type": "code",
   "execution_count": 8,
   "id": "9db8fca7-0cea-4c0e-ac01-7b168ae323d5",
   "metadata": {},
   "outputs": [
    {
     "name": "stdout",
     "output_type": "stream",
     "text": [
      "90% Confidence Interval: [73.03, 76.97]\n"
     ]
    }
   ],
   "source": [
    "import scipy.stats as stats\n",
    "\n",
    "sample_mean = 75\n",
    "sample_std = 12\n",
    "confidence_level = 0.90\n",
    "sample_size = 100  # Assuming a sample size of 100\n",
    "\n",
    "# Calculate the standard error\n",
    "standard_error = sample_std / (sample_size ** 0.5)\n",
    "\n",
    "# Calculate the margin of error\n",
    "margin_of_error = stats.norm.ppf((1 + confidence_level) / 2) * standard_error\n",
    "\n",
    "# Calculate the lower and upper bounds of the confidence interval\n",
    "lower_bound = sample_mean - margin_of_error\n",
    "upper_bound = sample_mean + margin_of_error\n",
    "\n",
    "# Print the results\n",
    "print(\"90% Confidence Interval: [{:.2f}, {:.2f}]\".format(lower_bound, upper_bound))"
   ]
  },
  {
   "cell_type": "markdown",
   "id": "3a8bfac9-79ff-412f-b0c1-27f473722eb0",
   "metadata": {},
   "source": [
    "Interpreting the results:\n",
    "The 90% confidence interval for the given sample data with a mean of 75 and a standard deviation of 12, based on a sample size of 100, is [73.03, 76.97]. This means that if we were to repeatedly sample from the population and calculate confidence intervals in the same way, we would expect 90% of those intervals to contain the true population mean.\n",
    "\n",
    "In other words, we can be 90% confident that the true population mean falls within the range of 73.03 to 76.97, based on the sample data provided."
   ]
  },
  {
   "cell_type": "markdown",
   "id": "e0aabbbd-d564-4c9b-8625-b423de747de8",
   "metadata": {},
   "source": [
    "**Q6.** Use Python to plot the chi-square distribution with 10 degrees of freedom. Label the axes and shade the area corresponding to a chi-square statistic of 15.\n",
    "\n",
    "**Answer:**"
   ]
  },
  {
   "cell_type": "code",
   "execution_count": 9,
   "id": "b7307392-6e78-4707-9b6d-584a9bf0ed0c",
   "metadata": {},
   "outputs": [
    {
     "data": {
      "image/png": "[encoded data removed]",
      "text/plain": [
       "<Figure size 640x480 with 1 Axes>"
      ]
     },
     "metadata": {},
     "output_type": "display_data"
    }
   ],
   "source": [
    "import numpy as np\n",
    "import matplotlib.pyplot as plt\n",
    "import scipy.stats as stats\n",
    "\n",
    "# Define the degrees of freedom\n",
    "df = 10\n",
    "\n",
    "# Generate x values\n",
    "x = np.linspace(0, 30, 500)\n",
    "\n",
    "# Calculate the chi-square probability density function (PDF) for the given degrees of freedom\n",
    "pdf = stats.chi2.pdf(x, df)\n",
    "\n",
    "# Create the plot\n",
    "plt.plot(x, pdf, 'b-', label=f'Chi-square Distribution (df={df})')\n",
    "plt.fill_between(x, pdf, where=(x >= 15), color='gray', alpha=0.3, label='Chi-square Statistic > 15')\n",
    "\n",
    "# Label the axes and add a legend\n",
    "plt.xlabel('Chi-square Statistic')\n",
    "plt.ylabel('Probability Density')\n",
    "plt.legend()\n",
    "\n",
    "# Display the plot\n",
    "plt.show()"
   ]
  },
  {
   "cell_type": "markdown",
   "id": "090640ed-83e0-4c6b-9dfb-86e5125e7603",
   "metadata": {},
   "source": [
    "In this code, we first define the degrees of freedom (`df`) as 10. Then, we generate a range of x values using `np.linspace` to cover the desired range of the chi-square statistic.\n",
    "\n",
    "Next, we calculate the chi-square probability density function (PDF) using `stats.chi2.pdf` for the given degrees of freedom.\n",
    "\n",
    "We then create the plot using `plt.plot`, where we plot the chi-square distribution line (`pdf`) and fill the area under the curve where the chi-square statistic is greater than or equal to 15 using `plt.fill_between`.\n",
    "\n",
    "To label the axes, we use `plt.xlabel` and `plt.ylabel`, and to add a legend, we use `plt.legend`.\n",
    "\n",
    "Finally, we display the plot using `plt.show`.\n",
    "\n",
    "Running this code will generate a plot of the chi-square distribution with 10 degrees of freedom, where the area corresponding to a chi-square statistic of 15 is shaded in gray."
   ]
  },
  {
   "cell_type": "markdown",
   "id": "d285a3fb-bc98-4930-8e89-d765a9419486",
   "metadata": {},
   "source": [
    "**Q7.** A random sample of 1000 people was asked if they preferred Coke or Pepsi. Of the sample, 520 preferred Coke. Calculate a 99% confidence interval for the true proportion of people in the population who\n",
    "prefer Coke.\n",
    "\n",
    "**Answer:**"
   ]
  },
  {
   "cell_type": "code",
   "execution_count": 11,
   "id": "336e2fa4-29d6-4833-a129-7845941753a9",
   "metadata": {},
   "outputs": [
    {
     "name": "stdout",
     "output_type": "stream",
     "text": [
      "99% Confidence Interval: [0.4793, 0.5604]\n"
     ]
    }
   ],
   "source": [
    "import statsmodels.api as sm\n",
    "\n",
    "sample_size = 1000\n",
    "preferred_coke = 520\n",
    "\n",
    "# Calculate the confidence interval using the Wilson score interval method\n",
    "ci_lower, ci_upper = sm.stats.proportion_confint(preferred_coke, sample_size, alpha=0.01, method='wilson')\n",
    "\n",
    "# Print the confidence interval\n",
    "print(\"99% Confidence Interval: [{:.4f}, {:.4f}]\".format(ci_lower, ci_upper))"
   ]
  },
  {
   "cell_type": "markdown",
   "id": "77b85891-c85f-4a26-8771-3da68b6995cc",
   "metadata": {},
   "source": [
    "In this code, we use the `proportion_confint` function from the `statsmodels` library to calculate the confidence interval. We provide the number of successes (520) and the sample size (1000) as inputs, along with the significance level (`alpha=0.01`) and the method for calculating the interval (`method='wilson'`).\n",
    "\n",
    "The `proportion_confint` function returns the lower and upper bounds of the confidence interval. We then print the confidence interval in the output.\n",
    "\n",
    "For the given sample data, the 99% confidence interval for the true proportion of people in the population who prefer Coke would be printed as a range in the form [lower_bound, upper_bound]."
   ]
  },
  {
   "cell_type": "markdown",
   "id": "9bdfc12d-eff3-4a4f-a554-df6192c122b0",
   "metadata": {},
   "source": [
    "**Q8.** A researcher hypothesizes that a coin is biased towards tails. They flip the coin 100 times and observe\n",
    "45 tails. Conduct a chi-square goodness of fit test to determine if the observed frequencies match the expected frequencies of a fair coin. Use a significance level of 0.05.\n",
    "\n",
    "**Answer:**\n",
    "\n",
    "To conduct a chi-square goodness of fit test to determine if the observed frequencies of a coin flip experiment match the expected frequencies of a fair coin, you can use Python. Here's the code to perform the test:"
   ]
  },
  {
   "cell_type": "code",
   "execution_count": 12,
   "id": "f031b31c-4c95-4584-8b94-1e04471392fa",
   "metadata": {},
   "outputs": [
    {
     "name": "stdout",
     "output_type": "stream",
     "text": [
      "Chi-square statistic: 1.0\n",
      "p-value: 0.31731050786291115\n",
      "Fail to reject the null hypothesis: The observed frequencies match the expected frequencies.\n"
     ]
    }
   ],
   "source": [
    "import numpy as np\n",
    "from scipy.stats import chisquare\n",
    "\n",
    "observed = np.array([45, 55])  # Observed frequencies of tails and heads\n",
    "expected = np.array([50, 50])  # Expected frequencies of tails and heads for a fair coin\n",
    "\n",
    "# Perform the chi-square goodness of fit test\n",
    "chi2, p_value = chisquare(f_obs=observed, f_exp=expected)\n",
    "\n",
    "# Print the test results\n",
    "print(\"Chi-square statistic:\", chi2)\n",
    "print(\"p-value:\", p_value)\n",
    "\n",
    "# Check if the p-value is less than the significance level\n",
    "alpha = 0.05\n",
    "if p_value < alpha:\n",
    "    print(\"Reject the null hypothesis: The observed frequencies do not match the expected frequencies.\")\n",
    "else:\n",
    "    print(\"Fail to reject the null hypothesis: The observed frequencies match the expected frequencies.\")"
   ]
  },
  {
   "cell_type": "markdown",
   "id": "a46d5592-645e-48c8-8fc1-873e60c0e0c6",
   "metadata": {},
   "source": [
    "In this code, we provide the observed frequencies of tails (45) and heads (55) as the `f_obs` argument and the expected frequencies of tails (50) and heads (50) for a fair coin as the `f_exp` argument to the `chisquare` function.\n",
    "\n",
    "The `chisquare` function from `scipy.stats` is used to perform the chi-square goodness of fit test. It returns the chi-square statistic and the p-value.\n",
    "\n",
    "We then print the chi-square statistic and p-value obtained from the test.\n",
    "\n",
    "Finally, we check if the p-value is less than the significance level (0.05) and provide the interpretation accordingly. If the p-value is less than the significance level, we reject the null hypothesis that the observed frequencies match the expected frequencies, suggesting evidence of a biased coin towards tails. If the p-value is greater than or equal to the significance level, we fail to reject the null hypothesis, indicating that the observed frequencies are consistent with those expected from a fair coin."
   ]
  },
  {
   "cell_type": "markdown",
   "id": "bd7fe7ce-12ca-4422-b27b-73259c50a63f",
   "metadata": {},
   "source": [
    "**Q9.** A study was conducted to determine if there is an association between smoking status (smoker or non-smoker) and lung cancer diagnosis (yes or no). The results are shown in the contingency table below. Conduct a chi-square test for independence to determine if there is a significant association between smoking status and lung cancer diagnosis.\n",
    "\n",
    "|            |Lung cancer: yes|Lung cancer: no|\n",
    "|------------|----------------|---------------|\n",
    "|   Smoker   |      60        |     140       |\n",
    "| Non- smoker|      30        |     170       |\n",
    "\n",
    "Use significance level of 0.05 .\n",
    "\n",
    "**Answer:**\n",
    "\n",
    "To conduct a chi-square test for independence and determine if there is a significant association between smoking status and lung cancer diagnosis based on the given contingency table, we can use Python. Here's the code to perform the test:"
   ]
  },
  {
   "cell_type": "markdown",
   "id": "e50a6c4c-1ad8-48e5-a70a-7ec686c8c4e2",
   "metadata": {},
   "source": [
    "import numpy as np\n",
    "from scipy.stats import chi2_contingency\n",
    "\n",
    "observed = np.array([[60, 140],\n",
    "                     [30, 170]])\n",
    "\n",
    "## Perform the chi-square test for independence\n",
    "chi2, p_value, _, _ = chi2_contingency(observed)\n",
    "\n",
    "## Print the test results\n",
    "print(\"Chi-square statistic:\", chi2)\n",
    "print(\"p-value:\", p_value)\n",
    "\n",
    "## Check if the p-value is less than the significance level\n",
    "alpha = 0.05\n",
    "if p_value < alpha:\n",
    "    print(\"Reject the null hypothesis: There is a significant association between smoking status and lung cancer diagnosis.\")\n",
    "else:\n",
    "    print(\"Fail to reject the null hypothesis: There is no significant association between smoking status and lung cancer diagnosis.\")"
   ]
  },
  {
   "cell_type": "markdown",
   "id": "8965c98c-448d-4c27-8b6e-16964ff84367",
   "metadata": {},
   "source": [
    "In this code, we create a 2-dimensional array `observed` representing the contingency table with the observed frequencies for each combination of smoking status and lung cancer diagnosis.\n",
    "\n",
    "The `chi2_contingency` function from `scipy.stats` is used to perform the chi-square test for independence. It returns the chi-square statistic, p-value, degrees of freedom, and expected frequencies.\n",
    "\n",
    "We then print the chi-square statistic and p-value obtained from the test.\n",
    "\n",
    "Finally, we check if the p-value is less than the significance level (0.05) and provide the interpretation accordingly. If the p-value is less than the significance level, we reject the null hypothesis, indicating that there is a significant association between smoking status and lung cancer diagnosis. If the p-value is greater than or equal to the significance level, we fail to reject the null hypothesis, suggesting that there is no significant association between smoking status and lung cancer diagnosis."
   ]
  },
  {
   "cell_type": "markdown",
   "id": "36299971-0cce-4466-9eb4-9b7ac7833539",
   "metadata": {},
   "source": [
    "**Q10.** A study was conducted to determine if the proportion of people who prefer milk chocolate, dark\n",
    "chocolate, or white chocolate is different in the U.S. versus the U.K. A random sample of 500 people from\n",
    "the U.S. and a random sample of 500 people from the U.K. were surveyed. The results are shown in the\n",
    "contingency table below. Conduct a chi-square test for independence to determine if there is a significant\n",
    "association between chocolate preference and country of origin.\n",
    "\n",
    "|          |Milk chocolate |Dark chocolate|White chocolate|\n",
    "|-----------|---------------|-------------|-----------------|\n",
    "| U.S.(n=500)|    200      |     150      |     150      |\n",
    "| U.K.(n=500)|     225     |     175      |     175     |\n",
    "\n",
    "Use a significance level of 0.01.\n",
    "\n",
    "**Answer:**\n",
    "\n",
    "To conduct a chi-square test for independence and determine if there is a significant association between chocolate preference and country of origin based on the given contingency table, we can use Python. Here's the code to perform the test:"
   ]
  },
  {
   "cell_type": "code",
   "execution_count": 14,
   "id": "854568ab-a0fe-4f4b-a825-3905077a0e24",
   "metadata": {},
   "outputs": [
    {
     "name": "stdout",
     "output_type": "stream",
     "text": [
      "Chi-square statistic: 13.393665158371041\n",
      "p-value: 0.0012348168997745918\n",
      "Reject the null hypothesis: There is a significant association between chocolate preference and country of origin.\n"
     ]
    }
   ],
   "source": [
    "import numpy as np\n",
    "from scipy.stats import chi2_contingency\n",
    "\n",
    "observed = np.array([[200, 150, 150],\n",
    "                     [225, 175, 100]])\n",
    "\n",
    "# Perform the chi-square test for independence\n",
    "chi2, p_value, _, _ = chi2_contingency(observed)\n",
    "\n",
    "# Print the test results\n",
    "print(\"Chi-square statistic:\", chi2)\n",
    "print(\"p-value:\", p_value)\n",
    "\n",
    "# Check if the p-value is less than the significance level\n",
    "alpha = 0.01\n",
    "if p_value < alpha:\n",
    "    print(\"Reject the null hypothesis: There is a significant association between chocolate preference and country of origin.\")\n",
    "else:\n",
    "    print(\"Fail to reject the null hypothesis: There is no significant association between chocolate preference and country of origin.\")\n"
   ]
  },
  {
   "cell_type": "markdown",
   "id": "ec510399-f903-4f8e-9348-007a36b7ac1e",
   "metadata": {},
   "source": [
    "**Q11.** A random sample of 30 people was selected from a population with an unknown mean and standard deviation. The sample mean was found to be 72 and the sample standard deviation was found to be 10. Conduct a hypothesis test to determine if the population mean is significantly different from 70. Use a significance level of 0.05.\n",
    "\n",
    "**Answer:**\n",
    "\n",
    "To conduct a hypothesis test and determine if the population mean is significantly different from 70 based on the given sample data, you can use a one-sample t-test in Python. Here's the code to perform the test:"
   ]
  },
  {
   "cell_type": "code",
   "execution_count": 15,
   "id": "46bbce8c-543e-4bcf-8666-50a94196355e",
   "metadata": {},
   "outputs": [
    {
     "name": "stdout",
     "output_type": "stream",
     "text": [
      "t-statistic: 1.0954451150103321\n",
      "p-value: 0.2823362372860698\n",
      "Fail to reject the null hypothesis: There is not enough evidence to conclude that the population mean is significantly different from 70.\n"
     ]
    }
   ],
   "source": [
    "import numpy as np\n",
    "from scipy.stats import t\n",
    "\n",
    "sample_mean = 72\n",
    "sample_std = 10\n",
    "sample_size = 30\n",
    "population_mean = 70\n",
    "significance_level = 0.05\n",
    "\n",
    "# Calculate the standard error\n",
    "standard_error = sample_std / (sample_size ** 0.5)\n",
    "\n",
    "# Calculate the t-statistic\n",
    "t_statistic = (sample_mean - population_mean) / standard_error\n",
    "\n",
    "# Calculate the degrees of freedom\n",
    "degrees_of_freedom = sample_size - 1\n",
    "\n",
    "# Calculate the p-value (two-tailed test)\n",
    "p_value = 2 * (1 - t.cdf(abs(t_statistic), df=degrees_of_freedom))\n",
    "\n",
    "# Print the test results\n",
    "print(\"t-statistic:\", t_statistic)\n",
    "print(\"p-value:\", p_value)\n",
    "\n",
    "# Check if the p-value is less than the significance level\n",
    "if p_value < significance_level:\n",
    "    print(\"Reject the null hypothesis: The population mean is significantly different from 70.\")\n",
    "else:\n",
    "    print(\"Fail to reject the null hypothesis: There is not enough evidence to conclude that the population mean is significantly different from 70.\")"
   ]
  },
  {
   "cell_type": "markdown",
   "id": "91eccb85-4e34-4c6e-b626-5f2a49922a19",
   "metadata": {},
   "source": [
    "In this code, we provide the sample mean (72), sample standard deviation (10), sample size (30), population mean (70), and the significance level (0.05).\n",
    "\n",
    "We first calculate the standard error using the sample standard deviation and sample size. Then, we calculate the t-statistic by subtracting the population mean from the sample mean and dividing it by the standard error.\n",
    "\n",
    "Next, we calculate the degrees of freedom, which is the sample size minus 1.\n",
    "\n",
    "We use the `t.cdf` function from `scipy.stats` to calculate the cumulative distribution function (CDF) of the t-distribution and obtain the p-value for the two-tailed test by multiplying the CDF by 2.\n",
    "\n",
    "Finally, we print the t-statistic and p-value obtained from the test. We then check if the p-value is less than the significance level and provide the interpretation accordingly. If the p-value is less than the significance level, we reject the null hypothesis, indicating that the population mean is significantly different from 70. If the p-value is greater than or equal to the significance level, we fail to reject the null hypothesis, suggesting that there is not enough evidence to conclude that the population mean is significantly different from 70."
   ]
  }
 ],
 "metadata": {
  "kernelspec": {
   "display_name": "Python 3 (ipykernel)",
   "language": "python",
   "name": "python3"
  },
  "language_info": {
   "codemirror_mode": {
    "name": "ipython",
    "version": 3
   },
   "file_extension": ".py",
   "mimetype": "text/x-python",
   "name": "python",
   "nbconvert_exporter": "python",
   "pygments_lexer": "ipython3",
   "version": "3.10.8"
  }
 },
 "nbformat": 4,
 "nbformat_minor": 5
}
