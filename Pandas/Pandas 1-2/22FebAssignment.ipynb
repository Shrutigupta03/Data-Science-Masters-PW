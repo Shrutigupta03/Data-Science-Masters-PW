{
 "cells": [
  {
   "cell_type": "markdown",
   "id": "50894642-b723-4a6b-8c76-df5702d89a76",
   "metadata": {},
   "source": [
    "**Q1.** Create a Pandas Series that contains the following data: 4, 8, 15, 16, 23, and 42. Then, print the series.\n",
    "\n",
    "**Answer:**\n"
   ]
  },
  {
   "cell_type": "code",
   "execution_count": 1,
   "id": "d1d4a825-2b73-416a-99bd-a88c4f2d7177",
   "metadata": {},
   "outputs": [
    {
     "name": "stdout",
     "output_type": "stream",
     "text": [
      "0     4\n",
      "1     8\n",
      "2    15\n",
      "3    16\n",
      "4    23\n",
      "5    42\n",
      "dtype: int64\n"
     ]
    }
   ],
   "source": [
    "import pandas as pd\n",
    "\n",
    "arr = [4, 8, 15, 16, 23, 42]\n",
    "series = pd.Series(arr)\n",
    "\n",
    "print(series)"
   ]
  },
  {
   "cell_type": "markdown",
   "id": "1ec9407a-acdd-49db-9647-531789e70394",
   "metadata": {},
   "source": [
    "Q3. Create a Pandas DataFrame that contains the following data:\n",
    "\n",
    "|  Name  |  Age  |  Gender  |\n",
    "|--------|-------|----------|\n",
    "| Alice  |   25  |  Female  |\n",
    "|   Bob  |   30  |   Male   |\n",
    "| Claire |   27  | Female   |\n",
    "\n",
    "Then print the Dataframe"
   ]
  },
  {
   "cell_type": "code",
   "execution_count": 2,
   "id": "0a138b92-9af3-48da-bc39-ca27136f84ee",
   "metadata": {},
   "outputs": [
    {
     "name": "stdout",
     "output_type": "stream",
     "text": [
      "     Name  Age  Gender\n",
      "0   Alice   25  Female\n",
      "1     Bob   30    Male\n",
      "2  Claire   27  Female\n"
     ]
    }
   ],
   "source": [
    "import pandas as pd\n",
    "\n",
    "data = { \n",
    "    'Name': ['Alice', 'Bob', 'Claire'],\n",
    "    'Age': [25, 30, 27],\n",
    "    'Gender': ['Female', 'Male', 'Female']\n",
    "}\n",
    "\n",
    "df = pd.DataFrame(data)\n",
    "\n",
    "print(df)"
   ]
  },
  {
   "cell_type": "markdown",
   "id": "f41543e4-6298-4887-b792-514bf8767584",
   "metadata": {},
   "source": [
    "**Q4.** What is ‘DataFrame’ in pandas and how is it different from pandas.series? Explain with an example.\n",
    "\n",
    "**Answer:**\n",
    "\n",
    "In Pandas, a DataFrame is a two-dimensional data structure that represents tabular data. It consists of rows and columns, similar to a table in a relational database or a spreadsheet. Each column in a DataFrame is a Pandas Series, which is a one-dimensional labeled array capable of holding different data types. \n",
    "\n",
    "The main differences between a DataFrame and a Series are as follows:\n",
    "\n",
    "1. Dimensionality: A DataFrame is a two-dimensional data structure with rows and columns, while a Series is a one-dimensional data structure.\n",
    "\n",
    "2. Structure: A DataFrame can contain multiple columns, where each column can have a different data type. In contrast, a Series can only represent a single column of data with a homogeneous data type.\n",
    "\n",
    "3. Flexibility: DataFrames provide more flexibility for data manipulation and analysis. They offer various built-in methods and functions for filtering, merging, grouping, and aggregating data. Series, on the other hand, are useful for performing operations on a single column of data.\n",
    "\n",
    "Here's an example to illustrate the difference between a DataFrame and a Series:\n",
    "\n",
    "```python\n",
    "import pandas as pd\n",
    "\n",
    "# Creating a DataFrame\n",
    "data = {\n",
    "    'Name': ['John', 'Emily', 'Charlie'],\n",
    "    'Age': [25, 30, 35],\n",
    "    'Country': ['USA', 'Canada', 'UK']\n",
    "}\n",
    "\n",
    "df = pd.DataFrame(data)\n",
    "print(\"DataFrame:\")\n",
    "print(df)\n",
    "print()\n",
    "\n",
    "# Creating a Series\n",
    "ages = pd.Series([25, 30, 35], name='Age')\n",
    "print(\"Series:\")\n",
    "print(ages)\n",
    "```\n",
    "\n",
    "Output:\n",
    "\n",
    "```\n",
    "DataFrame:\n",
    "      Name  Age Country\n",
    "0     John   25     USA\n",
    "1    Emily   30  Canada\n",
    "2  Charlie   35      UK\n",
    "\n",
    "Series:\n",
    "0    25\n",
    "1    30\n",
    "2    35\n",
    "Name: Age, dtype: int64\n",
    "```\n",
    "\n",
    "In this example, we create a DataFrame `df` using a dictionary with columns 'Name', 'Age', and 'Country'. Each column represents a Pandas Series with the same name as the column label. The DataFrame can hold multiple columns, and each column can have a different data type.\n",
    "\n",
    "Additionally, we create a Series `ages` that represents the 'Age' column. It contains only the ages and has the name 'Age'. The Series is one-dimensional and homogeneous, containing only integer values.\n",
    "\n",
    "By comparing the output, you can observe that the DataFrame represents a tabular structure with multiple columns, whereas the Series represents a single column of data with its associated index and data type."
   ]
  },
  {
   "cell_type": "markdown",
   "id": "4a15d3af-c84a-43f1-abb6-3772807a8300",
   "metadata": {},
   "source": [
    "**Q5.** What are some common functions you can use to manipulate data in a Pandas DataFrame? Can you give an example of when you might use one of these functions?\n",
    "\n",
    "**Answer:**\n",
    "\n",
    "Pandas provides a wide range of functions to manipulate data in a DataFrame. Some common functions you can use include:\n",
    "\n",
    "1. **head() and tail()**: These functions allow you to view the first or last n rows of the DataFrame, respectively. They are useful for quickly inspecting the data or getting a preview of its structure.\n",
    "\n",
    "2. **info()**: This function provides a summary of the DataFrame, including the number of non-null values, data types, and memory usage. It helps in understanding the overall data composition and identifying missing values or potential data type issues.\n",
    "\n",
    "3. **describe()**: This function generates descriptive statistics for each numeric column in the DataFrame, such as count, mean, standard deviation, minimum, maximum, and quartiles. It gives a quick overview of the distribution and central tendencies of the numerical data.\n",
    "\n",
    "4. **value_counts()**: This function counts the occurrences of unique values in a specific column. It is useful for categorical data analysis and understanding the frequency distribution of different categories.\n",
    "\n",
    "5. **sort_values()**: This function sorts the DataFrame by one or more columns. It allows you to arrange the data in ascending or descending order based on specific criteria. Sorting is helpful for finding the highest or lowest values, identifying outliers, or ordering data for visualization.\n",
    "\n",
    "6. **groupby()**: This function is used for grouping data based on one or more columns. It enables you to perform aggregate operations on specific groups of data, such as calculating sums, means, counts, or applying custom functions.\n",
    "\n",
    "7. **fillna()**: This function fills missing or NaN (Not a Number) values in the DataFrame with specified values or using different filling methods. It helps in handling missing data and ensuring the completeness of the dataset.\n",
    "\n",
    "8. **drop()**: This function allows you to remove rows or columns from the DataFrame based on specified conditions or labels. It helps in eliminating unnecessary data or filtering the DataFrame to focus on specific subsets.\n",
    "\n",
    "Example:\n",
    "Suppose you have a DataFrame containing customer data, including their age, gender, and purchase amount. You want to perform some analysis based on gender. Here's an example of using the `groupby()` function to calculate the average purchase amount by gender:\n",
    "\n",
    "```python\n",
    "import pandas as pd\n",
    "\n",
    "# Creating a sample DataFrame\n",
    "data = {\n",
    "    'Name': ['John', 'Emily', 'Charlie', 'Alice'],\n",
    "    'Age': [25, 30, 35, 28],\n",
    "    'Gender': ['Male', 'Female', 'Male', 'Female'],\n",
    "    'PurchaseAmount': [100, 200, 150, 180]\n",
    "}\n",
    "\n",
    "df = pd.DataFrame(data)\n",
    "\n",
    "# Calculate average purchase amount by gender\n",
    "average_purchase_by_gender = df.groupby('Gender')['PurchaseAmount'].mean()\n",
    "\n",
    "print(average_purchase_by_gender)\n",
    "```\n",
    "\n",
    "Output:\n",
    "```\n",
    "Gender\n",
    "Female    190.0\n",
    "Male      125.0\n",
    "Name: PurchaseAmount, dtype: float64\n",
    "```\n",
    "\n",
    "In this example, the `groupby()` function is used to group the data by the 'Gender' column. Then, the `mean()` function is applied to the 'PurchaseAmount' column within each group to calculate the average purchase amount by gender. The resulting Series displays the average purchase amount for each gender.\n",
    "\n",
    "This is just one example of using the `groupby()` function, and there are numerous other functions and techniques available in Pandas to manipulate and analyze data in DataFrames."
   ]
  },
  {
   "cell_type": "markdown",
   "id": "c150f0a6-d88d-45bf-bad2-124920799a07",
   "metadata": {},
   "source": [
    "**Q6.** Which of the following is mutable in nature Series, DataFrame, Panel?\n",
    "\n",
    "**Answer:**\n",
    "\n",
    "Among the options given (Series, DataFrame, Panel), both Series and DataFrame are mutable in nature, while Panel is not. \n",
    "\n",
    "In Pandas, a mutable object can be modified after it is created. Here's a breakdown of the mutability of each object:\n",
    "\n",
    "1. **Series**: A Pandas Series is mutable, meaning its elements can be changed or modified. You can update individual values, add or remove elements, or perform other operations that modify the Series in-place.\n",
    "\n",
    "2. **DataFrame**: Similarly, a Pandas DataFrame is mutable. You can modify its contents by updating values, adding or removing columns, or performing various operations that change the data structure.\n",
    "\n",
    "3. **Panel**: A Pandas Panel is a three-dimensional data structure, which can be thought of as a container for multiple DataFrames. However, the Panel object itself is immutable, meaning its structure cannot be modified after creation. While you can access and modify individual DataFrames within a Panel, you cannot add or remove entire DataFrames or change the overall structure of the Panel.\n",
    "\n",
    "It's worth noting that the Panel data structure has been deprecated in recent versions of Pandas, and it is recommended to use other data structures like multi-indexed DataFrames or xarray for handling multi-dimensional data."
   ]
  },
  {
   "cell_type": "markdown",
   "id": "551677bb-1da5-447f-92f8-8046f99e51bf",
   "metadata": {},
   "source": [
    "**Q7.** Create a DataFrame using multiple Series. Explain with an example.\n",
    "\n",
    "**Answer:**\n",
    "\n",
    "To create a DataFrame using multiple Series, you can pass the Series objects as a dictionary to the pd.DataFrame() function. Each Series will correspond to a column in the resulting DataFrame. Here's an example:"
   ]
  },
  {
   "cell_type": "code",
   "execution_count": 3,
   "id": "41acf169-945b-409b-a9f9-a44f067f9168",
   "metadata": {},
   "outputs": [
    {
     "name": "stdout",
     "output_type": "stream",
     "text": [
      "      Name  Age Country\n",
      "0     John   25     USA\n",
      "1    Emily   30  Canada\n",
      "2  Charlie   35      UK\n"
     ]
    }
   ],
   "source": [
    "import pandas as pd\n",
    "\n",
    "# Creating individual Series\n",
    "name_series = pd.Series(['John', 'Emily', 'Charlie'])\n",
    "age_series = pd.Series([25, 30, 35])\n",
    "country_series = pd.Series(['USA', 'Canada', 'UK'])\n",
    "\n",
    "# Creating DataFrame using Series\n",
    "data = {\n",
    "    'Name': name_series,\n",
    "    'Age': age_series,\n",
    "    'Country': country_series\n",
    "}\n",
    "\n",
    "df = pd.DataFrame(data)\n",
    "\n",
    "print(df)"
   ]
  }
 ],
 "metadata": {
  "kernelspec": {
   "display_name": "Python 3 (ipykernel)",
   "language": "python",
   "name": "python3"
  },
  "language_info": {
   "codemirror_mode": {
    "name": "ipython",
    "version": 3
   },
   "file_extension": ".py",
   "mimetype": "text/x-python",
   "name": "python",
   "nbconvert_exporter": "python",
   "pygments_lexer": "ipython3",
   "version": "3.10.8"
  }
 },
 "nbformat": 4,
 "nbformat_minor": 5
}
